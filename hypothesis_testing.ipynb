{
 "cells": [
  {
   "cell_type": "code",
   "execution_count": 1,
   "metadata": {},
   "outputs": [],
   "source": [
    "import math\n",
    "\n",
    "import numpy as np\n",
    "import pandas as pd\n",
    "import matplotlib.pyplot as plt\n",
    "\n",
    "from scipy import stats\n",
    "from ipywidgets import interact"
   ]
  },
  {
   "cell_type": "markdown",
   "metadata": {},
   "source": [
    "For each of the following questions, formulate a null and alternative hypothesis (be as specific as you can be), then give an example of what a true positive, true negative, type I and type II errors would look like. Note that some of the questions are intentionally phrased in a vague way. It is your job to reword these as more precise questions that could be tested."
   ]
  },
  {
   "cell_type": "markdown",
   "metadata": {},
   "source": [
    "#### 1. Has the network latency gone up since we switched internet service providers?"
   ]
  },
  {
   "cell_type": "markdown",
   "metadata": {},
   "source": [
    "- **alpha**: $\\alpha$: 1 - confidence level (95% confidence level -> $\\alpha = .05$)\n",
    "- **null hypothesis**: $H_0$: the \"status quo\"\n",
    "- **alterternative hyopthesis**: $H_a$: the opposite; alternative"
   ]
  },
  {
   "cell_type": "markdown",
   "metadata": {},
   "source": [
    "- Have round trip time and time to first byte increased since switching ISPs?"
   ]
  },
  {
   "cell_type": "markdown",
   "metadata": {},
   "source": [
    "- $H_0$: RTT and TTFB before and after changing ISPs are no different.\n",
    "- $H_a$: RTT and TTFB increased after changing ISPs.\n",
    "\n",
    "or\n",
    "\n",
    "- $H_0$: Reported FCC latency is the same for both ISPs.\n",
    "- $H_a$: Reported FFC latency is higher for the new ISP."
   ]
  },
  {
   "cell_type": "markdown",
   "metadata": {},
   "source": [
    "- True Positive\n",
    "    - small p-value -- < alpha (.001)\n",
    "    - reject $H_0$ (there is a difference)\n",
    "    - FCC latency of ISP 1 reported at : 100 ms\n",
    "    - FCC latency of ISP 2 reported at : 1_000 ms\n",
    "- False Positive\n",
    "    - small p-value\n",
    "    - reject $H_0$ (there is no differnce but we conclude there is one)\n",
    "    - FCC data for ISP 2 was taken in very rural area\n",
    "- True Negative\n",
    "    - higher p-value\n",
    "    - fail to reject $H_0$ (there is no difference, conclusion based on data supports this)\n",
    "    - FCC latency of ISP 1 reported at : 100 ms\n",
    "    - FCC latency of ISP 2 reported at : 130 ms\n",
    "- False Negative\n",
    "    - higher p-value\n",
    "    - fail to reject $H_0$ (there is a difference, conclusion based on data does not support this)\n",
    "    - FCC latency of ISP 1 reported at : 100 ms\n",
    "    - FCC latency of ISP 2 reported at : 130 ms\n",
    "    - user does not understnd milisecond units?"
   ]
  },
  {
   "cell_type": "markdown",
   "metadata": {},
   "source": [
    "#### 2. Is the website redesign any good?\n"
   ]
  },
  {
   "cell_type": "markdown",
   "metadata": {},
   "source": [
    "- **alpha**: $\\alpha$: 1 - confidence level (95% confidence level -> $\\alpha = .05$)\n",
    "- **null hypothesis**: $H_0$: the \"status quo\"\n",
    "- **alterternative hyopthesis**: $H_a$: the opposite; alternative"
   ]
  },
  {
   "cell_type": "markdown",
   "metadata": {},
   "source": [
    "- $H_0$: number of surveys that mention the website positively are the same.\n",
    "- $H_a$: number of surveys that mention the website positively are higher."
   ]
  },
  {
   "cell_type": "markdown",
   "metadata": {},
   "source": [
    "- True Positive\n",
    "    - small p-value -- < alpha (.001)\n",
    "    - reject $H_0$ (there is a difference, we conclude there is one)\n",
    "    - Previous # of mentions : 10 \n",
    "    - Current number of mentions : 35 \n",
    "- False Positive\n",
    "    - small p-value\n",
    "    - reject $H_0$ (there is no differnce but we conclude there is one)\n",
    "    - people feel the same but the survey is presented in a better location and more people       repsond\n",
    "- True Negative\n",
    "    - higher p-value\n",
    "    - fail to reject $H_0$ (there is no difference, conclusion based on data supports this)\n",
    "    - Number of positive mentions before is 15\n",
    "    - Number of positive mentions after is 14\n",
    "- False Negative\n",
    "    - higher p-value\n",
    "    - fail to reject $H_0$ (there is a difference, conclusion based on data does not support this)\n",
    "    - Number of positive mentions before is 15\n",
    "    - Number of positive mentions after is 23\n",
    "    - NLP model does not accurately read positive mentions"
   ]
  },
  {
   "cell_type": "markdown",
   "metadata": {},
   "source": [
    "#### 3. Is our television ad driving more sales?"
   ]
  },
  {
   "cell_type": "markdown",
   "metadata": {},
   "source": [
    "- **alpha**: $\\alpha$: 1 - confidence level (95% confidence level -> $\\alpha = .05$)\n",
    "- **null hypothesis**: $H_0$: the \"status quo\"\n",
    "- **alterternative hyopthesis**: $H_a$: the opposite; alternative"
   ]
  },
  {
   "cell_type": "markdown",
   "metadata": {},
   "source": [
    "- $H_0$: gross sales three months before ad began to air are the same as 3 months after.\n",
    "- $H_a$: gross sales three months before ad began to air are the same as 3 months after."
   ]
  },
  {
   "cell_type": "markdown",
   "metadata": {},
   "source": [
    "- True Positive\n",
    "    - small p-value -- < alpha (.001)\n",
    "    - reject $H_0$ (there is a difference, we conclude there is one)\n",
    "    - sales three months before add are: 1_000\n",
    "    - sales three months after add are: 3_000\n",
    "- False Positive\n",
    "    - small p-value\n",
    "    - reject $H_0$ (we conclude there is a difference, but there is no actual differnce)\n",
    "    - sales increase at the same time we offer a huge discount on the product\n",
    "- True Negative\n",
    "    - higher p-value\n",
    "    - fail to reject $H_0$ (we conclude there is no difference, there is no actual difference)\n",
    "    - sales three months before add are: 2_000\n",
    "    - sales three months after add are: 2_101\n",
    "- False Negative\n",
    "    - higher p-value\n",
    "    - fail to reject $H_0$ (we conclude there is no differnce, there is an actual difference)\n",
    "    - sales three months before add are: 1_000\n",
    "    - sales three months after add are: 3_000\n",
    "    - NLP model does not accurately read positive mentions"
   ]
  },
  {
   "cell_type": "code",
   "execution_count": null,
   "metadata": {},
   "outputs": [],
   "source": []
  }
 ],
 "metadata": {
  "kernelspec": {
   "display_name": "Python 3",
   "language": "python",
   "name": "python3"
  },
  "language_info": {
   "codemirror_mode": {
    "name": "ipython",
    "version": 3
   },
   "file_extension": ".py",
   "mimetype": "text/x-python",
   "name": "python",
   "nbconvert_exporter": "python",
   "pygments_lexer": "ipython3",
   "version": "3.7.4"
  }
 },
 "nbformat": 4,
 "nbformat_minor": 2
}
