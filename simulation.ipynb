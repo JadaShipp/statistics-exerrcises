{
 "cells": [
  {
   "cell_type": "code",
   "execution_count": 1,
   "metadata": {},
   "outputs": [],
   "source": [
    "%matplotlib inline\n",
    "import numpy as np\n",
    "import pandas as pd\n",
    "flips = np.random.choice(['Heads', 'Tails'], size =5)\n"
   ]
  },
  {
   "cell_type": "code",
   "execution_count": 2,
   "metadata": {},
   "outputs": [
    {
     "data": {
      "text/plain": [
       "array([False, False, False,  True,  True])"
      ]
     },
     "execution_count": 2,
     "metadata": {},
     "output_type": "execute_result"
    }
   ],
   "source": [
    "flips == 'Heads'"
   ]
  },
  {
   "cell_type": "code",
   "execution_count": 3,
   "metadata": {},
   "outputs": [
    {
     "data": {
      "text/plain": [
       "0.4"
      ]
     },
     "execution_count": 3,
     "metadata": {},
     "output_type": "execute_result"
    }
   ],
   "source": [
    "(flips == 'Heads').mean()"
   ]
  },
  {
   "cell_type": "code",
   "execution_count": 4,
   "metadata": {},
   "outputs": [],
   "source": [
    "#### as we increase the numer of trials, our acutal probability approaches the theoretical probability"
   ]
  },
  {
   "cell_type": "code",
   "execution_count": 5,
   "metadata": {},
   "outputs": [],
   "source": [
    "flips = np.random.choice(['Heads', 'Tails'], size =100000)"
   ]
  },
  {
   "cell_type": "code",
   "execution_count": 6,
   "metadata": {},
   "outputs": [
    {
     "data": {
      "text/plain": [
       "0.50124"
      ]
     },
     "execution_count": 6,
     "metadata": {},
     "output_type": "execute_result"
    }
   ],
   "source": [
    "(flips == 'Heads').mean()"
   ]
  },
  {
   "cell_type": "markdown",
   "metadata": {},
   "source": [
    "### 1. How likely is it that you roll doubles when rolling two dice?"
   ]
  },
  {
   "cell_type": "markdown",
   "metadata": {},
   "source": [
    "1. Represent your data\n",
    "2. Make a matrix\n",
    "3. Aggregate row-wise"
   ]
  },
  {
   "cell_type": "code",
   "execution_count": 7,
   "metadata": {},
   "outputs": [
    {
     "data": {
      "text/plain": [
       "array([[6, 6],\n",
       "       [2, 3],\n",
       "       [1, 3],\n",
       "       ...,\n",
       "       [6, 6],\n",
       "       [5, 2],\n",
       "       [5, 2]])"
      ]
     },
     "execution_count": 7,
     "metadata": {},
     "output_type": "execute_result"
    }
   ],
   "source": [
    "roll_results = np.random.choice([1,2,3,4,5,6], size=(10_000 ,2))\n",
    "roll_results"
   ]
  },
  {
   "cell_type": "markdown",
   "metadata": {},
   "source": [
    "- Because the row-wise aggregate is more complicated than an simple sum, turn the np array into a pandas dataframe"
   ]
  },
  {
   "cell_type": "code",
   "execution_count": 8,
   "metadata": {},
   "outputs": [
    {
     "data": {
      "text/html": [
       "<div>\n",
       "<style scoped>\n",
       "    .dataframe tbody tr th:only-of-type {\n",
       "        vertical-align: middle;\n",
       "    }\n",
       "\n",
       "    .dataframe tbody tr th {\n",
       "        vertical-align: top;\n",
       "    }\n",
       "\n",
       "    .dataframe thead th {\n",
       "        text-align: right;\n",
       "    }\n",
       "</style>\n",
       "<table border=\"1\" class=\"dataframe\">\n",
       "  <thead>\n",
       "    <tr style=\"text-align: right;\">\n",
       "      <th></th>\n",
       "      <th>0</th>\n",
       "      <th>1</th>\n",
       "    </tr>\n",
       "  </thead>\n",
       "  <tbody>\n",
       "    <tr>\n",
       "      <td>0</td>\n",
       "      <td>6</td>\n",
       "      <td>6</td>\n",
       "    </tr>\n",
       "    <tr>\n",
       "      <td>1</td>\n",
       "      <td>2</td>\n",
       "      <td>3</td>\n",
       "    </tr>\n",
       "    <tr>\n",
       "      <td>2</td>\n",
       "      <td>1</td>\n",
       "      <td>3</td>\n",
       "    </tr>\n",
       "    <tr>\n",
       "      <td>3</td>\n",
       "      <td>6</td>\n",
       "      <td>4</td>\n",
       "    </tr>\n",
       "    <tr>\n",
       "      <td>4</td>\n",
       "      <td>5</td>\n",
       "      <td>1</td>\n",
       "    </tr>\n",
       "    <tr>\n",
       "      <td>...</td>\n",
       "      <td>...</td>\n",
       "      <td>...</td>\n",
       "    </tr>\n",
       "    <tr>\n",
       "      <td>9995</td>\n",
       "      <td>2</td>\n",
       "      <td>4</td>\n",
       "    </tr>\n",
       "    <tr>\n",
       "      <td>9996</td>\n",
       "      <td>1</td>\n",
       "      <td>3</td>\n",
       "    </tr>\n",
       "    <tr>\n",
       "      <td>9997</td>\n",
       "      <td>6</td>\n",
       "      <td>6</td>\n",
       "    </tr>\n",
       "    <tr>\n",
       "      <td>9998</td>\n",
       "      <td>5</td>\n",
       "      <td>2</td>\n",
       "    </tr>\n",
       "    <tr>\n",
       "      <td>9999</td>\n",
       "      <td>5</td>\n",
       "      <td>2</td>\n",
       "    </tr>\n",
       "  </tbody>\n",
       "</table>\n",
       "<p>10000 rows × 2 columns</p>\n",
       "</div>"
      ],
      "text/plain": [
       "      0  1\n",
       "0     6  6\n",
       "1     2  3\n",
       "2     1  3\n",
       "3     6  4\n",
       "4     5  1\n",
       "...  .. ..\n",
       "9995  2  4\n",
       "9996  1  3\n",
       "9997  6  6\n",
       "9998  5  2\n",
       "9999  5  2\n",
       "\n",
       "[10000 rows x 2 columns]"
      ]
     },
     "execution_count": 8,
     "metadata": {},
     "output_type": "execute_result"
    }
   ],
   "source": [
    "df = pd.DataFrame(roll_results)\n",
    "df"
   ]
  },
  {
   "cell_type": "markdown",
   "metadata": {},
   "source": [
    "- Now write a function that checks to see if each observation is a double (same number on each roll)\n",
    "- Then apply that to the whole dataframe one row at a time"
   ]
  },
  {
   "cell_type": "code",
   "execution_count": 9,
   "metadata": {},
   "outputs": [],
   "source": [
    "def are_doubles(one_observation: pd.Series) -> bool:\n",
    "    return (one_observation == 1).all() or (one_observation == 2).all() or (one_observation == 3).all() or (one_observation == 4).all() or (one_observation == 5).all() or (one_observation == 6).all()"
   ]
  },
  {
   "cell_type": "code",
   "execution_count": 10,
   "metadata": {},
   "outputs": [
    {
     "data": {
      "text/plain": [
       "0        True\n",
       "1       False\n",
       "2       False\n",
       "3       False\n",
       "4       False\n",
       "        ...  \n",
       "9995    False\n",
       "9996    False\n",
       "9997     True\n",
       "9998    False\n",
       "9999    False\n",
       "Length: 10000, dtype: bool"
      ]
     },
     "execution_count": 10,
     "metadata": {},
     "output_type": "execute_result"
    }
   ],
   "source": [
    "df.apply(are_doubles , axis = 1)"
   ]
  },
  {
   "cell_type": "markdown",
   "metadata": {},
   "source": [
    "- To answer the question \"How likely?\" use the .mean() function to get a percent. This represents the probablitily that any of these rolls are doubles of any kind"
   ]
  },
  {
   "cell_type": "code",
   "execution_count": 11,
   "metadata": {},
   "outputs": [
    {
     "data": {
      "text/plain": [
       "0.1721"
      ]
     },
     "execution_count": 11,
     "metadata": {},
     "output_type": "execute_result"
    }
   ],
   "source": [
    "df.apply(are_doubles , axis = 1).mean()"
   ]
  },
  {
   "cell_type": "markdown",
   "metadata": {},
   "source": [
    "### 2. If you flip 8 coins, what is the probability of getting exactly 3 heads? What is the probability of getting more than 3 heads?"
   ]
  },
  {
   "cell_type": "markdown",
   "metadata": {},
   "source": [
    "- Represent your data\n",
    "- Make a matrix\n",
    "- Aggregate row-wise\n",
    "- Aggregate of aggregate"
   ]
  },
  {
   "cell_type": "markdown",
   "metadata": {},
   "source": [
    "- Step 1: Use an np array and random choice to represent the results of flipping 8 coins 10,000 times"
   ]
  },
  {
   "cell_type": "code",
   "execution_count": 12,
   "metadata": {},
   "outputs": [
    {
     "data": {
      "text/plain": [
       "array([['Heads', 'Heads', 'Heads', ..., 'Heads', 'Heads', 'Tails'],\n",
       "       ['Heads', 'Heads', 'Tails', ..., 'Tails', 'Heads', 'Heads'],\n",
       "       ['Heads', 'Tails', 'Tails', ..., 'Tails', 'Tails', 'Heads'],\n",
       "       ...,\n",
       "       ['Heads', 'Heads', 'Tails', ..., 'Heads', 'Tails', 'Tails'],\n",
       "       ['Tails', 'Tails', 'Heads', ..., 'Heads', 'Tails', 'Tails'],\n",
       "       ['Heads', 'Tails', 'Tails', ..., 'Tails', 'Tails', 'Heads']],\n",
       "      dtype='<U5')"
      ]
     },
     "execution_count": 12,
     "metadata": {},
     "output_type": "execute_result"
    }
   ],
   "source": [
    "flip_results = np.random.choice([\"Heads\",\"Tails\"], size = (10_000, 8))\n",
    "flip_results"
   ]
  },
  {
   "cell_type": "markdown",
   "metadata": {},
   "source": [
    "- Step 2: Turn results into boolean values where 'Heads' is True and 'Tails' is False"
   ]
  },
  {
   "cell_type": "code",
   "execution_count": 13,
   "metadata": {},
   "outputs": [
    {
     "data": {
      "text/plain": [
       "array([[ True,  True,  True, ...,  True,  True, False],\n",
       "       [ True,  True, False, ..., False,  True,  True],\n",
       "       [ True, False, False, ..., False, False,  True],\n",
       "       ...,\n",
       "       [ True,  True, False, ...,  True, False, False],\n",
       "       [False, False,  True, ...,  True, False, False],\n",
       "       [ True, False, False, ..., False, False,  True]])"
      ]
     },
     "execution_count": 13,
     "metadata": {},
     "output_type": "execute_result"
    }
   ],
   "source": [
    "is_heads = (flip_results == 'Heads')\n",
    "is_heads"
   ]
  },
  {
   "cell_type": "markdown",
   "metadata": {},
   "source": [
    "- Step 3: Sum all the rows"
   ]
  },
  {
   "cell_type": "code",
   "execution_count": 14,
   "metadata": {},
   "outputs": [
    {
     "data": {
      "text/plain": [
       "array([5, 4, 3, ..., 3, 3, 2])"
      ]
     },
     "execution_count": 14,
     "metadata": {},
     "output_type": "execute_result"
    }
   ],
   "source": [
    "number_of_heads_in_each_observation = is_heads.sum(axis=1)\n",
    "number_of_heads_in_each_observation"
   ]
  },
  {
   "cell_type": "markdown",
   "metadata": {},
   "source": [
    "- Step 4: Count all the instances that the total equals 3. This represents only 3 heads in each observation or row"
   ]
  },
  {
   "cell_type": "code",
   "execution_count": 15,
   "metadata": {},
   "outputs": [
    {
     "data": {
      "text/plain": [
       "array([False, False,  True, ...,  True,  True, False])"
      ]
     },
     "execution_count": 15,
     "metadata": {},
     "output_type": "execute_result"
    }
   ],
   "source": [
    "only_3_heads = (number_of_heads_in_each_observation == 3)\n",
    "only_3_heads"
   ]
  },
  {
   "cell_type": "markdown",
   "metadata": {},
   "source": [
    "- Step 4: To answer the question \"What is the probablitily?\" use the .mean() function."
   ]
  },
  {
   "cell_type": "code",
   "execution_count": 16,
   "metadata": {},
   "outputs": [
    {
     "data": {
      "text/plain": [
       "0.2172"
      ]
     },
     "execution_count": 16,
     "metadata": {},
     "output_type": "execute_result"
    }
   ],
   "source": [
    "only_3_heads.mean()"
   ]
  },
  {
   "cell_type": "markdown",
   "metadata": {},
   "source": [
    "### 3. There are approximitely 3 web development cohorts for every 1 data science cohort at Codeup. Assuming that Codeup randomly selects an alumni to put on a billboard, what are the odds that the two billboards I drive past both have data science students on them?"
   ]
  },
  {
   "cell_type": "markdown",
   "metadata": {},
   "source": [
    "- Represent your data\n",
    "- Make a matrix\n",
    "- Aggregate row-wise\n",
    "- Aggregate of aggregate"
   ]
  },
  {
   "cell_type": "markdown",
   "metadata": {},
   "source": [
    "- Step 1: Represent the data in an np array. The number of trials is two as this represents the two bilboards the person will drive past. There is a higher probability that the student chosen will be from the web development class, so include a probability aregument that represents this"
   ]
  },
  {
   "cell_type": "markdown",
   "metadata": {},
   "source": [
    "- There are 4 elements. Three of which are the same, one is different"
   ]
  },
  {
   "cell_type": "code",
   "execution_count": 17,
   "metadata": {},
   "outputs": [
    {
     "data": {
      "text/plain": [
       "array([['DS', 'WD'],\n",
       "       ['WD', 'WD'],\n",
       "       ['WD', 'DS'],\n",
       "       ...,\n",
       "       ['WD', 'WD'],\n",
       "       ['WD', 'DS'],\n",
       "       ['WD', 'WD']], dtype='<U2')"
      ]
     },
     "execution_count": 17,
     "metadata": {},
     "output_type": "execute_result"
    }
   ],
   "source": [
    "cohorts = np.random.choice([\"WD\",\"DS\"], size = (10_000, 2), p=[.75,.25])\n",
    "cohorts"
   ]
  },
  {
   "cell_type": "markdown",
   "metadata": {},
   "source": [
    "- Step 2: Because the row-wise aggregate is more complicated than an simple sum, turn the np array into a pandas dataframe"
   ]
  },
  {
   "cell_type": "code",
   "execution_count": 18,
   "metadata": {},
   "outputs": [
    {
     "data": {
      "text/html": [
       "<div>\n",
       "<style scoped>\n",
       "    .dataframe tbody tr th:only-of-type {\n",
       "        vertical-align: middle;\n",
       "    }\n",
       "\n",
       "    .dataframe tbody tr th {\n",
       "        vertical-align: top;\n",
       "    }\n",
       "\n",
       "    .dataframe thead th {\n",
       "        text-align: right;\n",
       "    }\n",
       "</style>\n",
       "<table border=\"1\" class=\"dataframe\">\n",
       "  <thead>\n",
       "    <tr style=\"text-align: right;\">\n",
       "      <th></th>\n",
       "      <th>0</th>\n",
       "      <th>1</th>\n",
       "    </tr>\n",
       "  </thead>\n",
       "  <tbody>\n",
       "    <tr>\n",
       "      <td>0</td>\n",
       "      <td>DS</td>\n",
       "      <td>WD</td>\n",
       "    </tr>\n",
       "    <tr>\n",
       "      <td>1</td>\n",
       "      <td>WD</td>\n",
       "      <td>WD</td>\n",
       "    </tr>\n",
       "    <tr>\n",
       "      <td>2</td>\n",
       "      <td>WD</td>\n",
       "      <td>DS</td>\n",
       "    </tr>\n",
       "    <tr>\n",
       "      <td>3</td>\n",
       "      <td>WD</td>\n",
       "      <td>WD</td>\n",
       "    </tr>\n",
       "    <tr>\n",
       "      <td>4</td>\n",
       "      <td>WD</td>\n",
       "      <td>WD</td>\n",
       "    </tr>\n",
       "    <tr>\n",
       "      <td>...</td>\n",
       "      <td>...</td>\n",
       "      <td>...</td>\n",
       "    </tr>\n",
       "    <tr>\n",
       "      <td>9995</td>\n",
       "      <td>WD</td>\n",
       "      <td>DS</td>\n",
       "    </tr>\n",
       "    <tr>\n",
       "      <td>9996</td>\n",
       "      <td>WD</td>\n",
       "      <td>WD</td>\n",
       "    </tr>\n",
       "    <tr>\n",
       "      <td>9997</td>\n",
       "      <td>WD</td>\n",
       "      <td>WD</td>\n",
       "    </tr>\n",
       "    <tr>\n",
       "      <td>9998</td>\n",
       "      <td>WD</td>\n",
       "      <td>DS</td>\n",
       "    </tr>\n",
       "    <tr>\n",
       "      <td>9999</td>\n",
       "      <td>WD</td>\n",
       "      <td>WD</td>\n",
       "    </tr>\n",
       "  </tbody>\n",
       "</table>\n",
       "<p>10000 rows × 2 columns</p>\n",
       "</div>"
      ],
      "text/plain": [
       "       0   1\n",
       "0     DS  WD\n",
       "1     WD  WD\n",
       "2     WD  DS\n",
       "3     WD  WD\n",
       "4     WD  WD\n",
       "...   ..  ..\n",
       "9995  WD  DS\n",
       "9996  WD  WD\n",
       "9997  WD  WD\n",
       "9998  WD  DS\n",
       "9999  WD  WD\n",
       "\n",
       "[10000 rows x 2 columns]"
      ]
     },
     "execution_count": 18,
     "metadata": {},
     "output_type": "execute_result"
    }
   ],
   "source": [
    "cohortsdf = pd.DataFrame(cohorts)\n",
    "cohortsdf"
   ]
  },
  {
   "cell_type": "markdown",
   "metadata": {},
   "source": [
    "- Step 3: Determine how many times both bilboards have a data science student by writing a function, then apply that function to the entire dataframe"
   ]
  },
  {
   "cell_type": "code",
   "execution_count": 19,
   "metadata": {},
   "outputs": [],
   "source": [
    "def are_both_data_science(one_row: pd.Series) -> bool:\n",
    "    return (one_row == 'DS').all()"
   ]
  },
  {
   "cell_type": "code",
   "execution_count": 20,
   "metadata": {},
   "outputs": [
    {
     "data": {
      "text/plain": [
       "0       False\n",
       "1       False\n",
       "2       False\n",
       "3       False\n",
       "4       False\n",
       "        ...  \n",
       "9995    False\n",
       "9996    False\n",
       "9997    False\n",
       "9998    False\n",
       "9999    False\n",
       "Length: 10000, dtype: bool"
      ]
     },
     "execution_count": 20,
     "metadata": {},
     "output_type": "execute_result"
    }
   ],
   "source": [
    "cohortsdf.apply(are_both_data_science, axis = 1)"
   ]
  },
  {
   "cell_type": "markdown",
   "metadata": {},
   "source": [
    "- Step 4: Now you have a dataframe that is showing whether or not each observation or row has both data science students. To answer the question \"What are the odds?\" use .mean()"
   ]
  },
  {
   "cell_type": "code",
   "execution_count": 21,
   "metadata": {},
   "outputs": [],
   "source": [
    "what_are_the_odds = cohortsdf.apply(are_both_data_science, axis = 1).mean()"
   ]
  },
  {
   "cell_type": "code",
   "execution_count": 22,
   "metadata": {},
   "outputs": [
    {
     "data": {
      "text/plain": [
       "0.0614"
      ]
     },
     "execution_count": 22,
     "metadata": {},
     "output_type": "execute_result"
    }
   ],
   "source": [
    "what_are_the_odds"
   ]
  },
  {
   "cell_type": "markdown",
   "metadata": {},
   "source": [
    "### 4. Codeup students buy, on average, 3 poptart packages (+- 1.5) a day from the snack vending machine. If on monday the machine is restocked with 17 poptart packages, how likely is it that I will be able to buy some poptarts on Friday afternoon?"
   ]
  },
  {
   "cell_type": "markdown",
   "metadata": {},
   "source": [
    "- Represent your data\n",
    "- Make a matrix\n",
    "- Aggregate row-wise\n",
    "- Aggregate of aggregate"
   ]
  },
  {
   "cell_type": "markdown",
   "metadata": {},
   "source": [
    "- Step 1: Represent the data that shows average of 3 poptart purchases with standard deviation of 1.5. Use np.random.normal"
   ]
  },
  {
   "cell_type": "code",
   "execution_count": 23,
   "metadata": {},
   "outputs": [
    {
     "data": {
      "text/plain": [
       "array([[-1.,  3.,  2.,  3.,  5.],\n",
       "       [ 4.,  5.,  4.,  6.,  4.],\n",
       "       [ 4.,  3.,  0.,  1.,  3.],\n",
       "       ...,\n",
       "       [ 4.,  4.,  5.,  6.,  2.],\n",
       "       [ 5., -1.,  1.,  0.,  2.],\n",
       "       [ 6.,  4.,  4.,  4.,  5.]])"
      ]
     },
     "execution_count": 23,
     "metadata": {},
     "output_type": "execute_result"
    }
   ],
   "source": [
    "poptart_purchases = np.random.normal(3,1.5, size = (10_000, 5))\n",
    "rounded_poptart_purchases = poptart_purchases.round()\n",
    "rounded_poptart_purchases"
   ]
  },
  {
   "cell_type": "markdown",
   "metadata": {},
   "source": [
    "- Step 2: There must be at least 1 poptart left at the end of the day on Friday in order to make a purchase. Sum the days of the week and compare it to 16"
   ]
  },
  {
   "cell_type": "code",
   "execution_count": 24,
   "metadata": {},
   "outputs": [
    {
     "data": {
      "text/plain": [
       "array([12., 23., 11., ..., 21.,  7., 23.])"
      ]
     },
     "execution_count": 24,
     "metadata": {},
     "output_type": "execute_result"
    }
   ],
   "source": [
    "rounded_poptart_purchases_sum = rounded_poptart_purchases.sum(axis=1)\n",
    "rounded_poptart_purchases_sum"
   ]
  },
  {
   "cell_type": "code",
   "execution_count": 25,
   "metadata": {},
   "outputs": [
    {
     "data": {
      "text/plain": [
       "array([ True, False,  True, ..., False,  True, False])"
      ]
     },
     "execution_count": 25,
     "metadata": {},
     "output_type": "execute_result"
    }
   ],
   "source": [
    "at_least_one_poptart_left_on_Friday = (rounded_poptart_purchases_sum <= 16)\n",
    "at_least_one_poptart_left_on_Friday"
   ]
  },
  {
   "cell_type": "markdown",
   "metadata": {},
   "source": [
    "- Step: 3 To answer the question \"How likely?\" use .mean()"
   ]
  },
  {
   "cell_type": "code",
   "execution_count": 26,
   "metadata": {},
   "outputs": [
    {
     "data": {
      "text/plain": [
       "0.6734"
      ]
     },
     "execution_count": 26,
     "metadata": {},
     "output_type": "execute_result"
    }
   ],
   "source": [
    "at_least_one_poptart_left_on_Friday.mean()"
   ]
  },
  {
   "cell_type": "markdown",
   "metadata": {},
   "source": [
    "### 5. Compare Heights\n",
    "### Men have an average height of 178 cm and standard deviation of 8cm.\n",
    "### Women have a mean of 170, sd = 6cm.\n",
    "### If a man and woman are chosen at random, P(woman taller than man)?"
   ]
  },
  {
   "cell_type": "markdown",
   "metadata": {},
   "source": [
    "- Represent your data\n",
    "- Make a matrix\n",
    "- Aggregate row-wise\n",
    "- Aggregate of aggregate"
   ]
  },
  {
   "cell_type": "markdown",
   "metadata": {},
   "source": [
    "- Step 1: Represent data in np array with np.random.normal"
   ]
  },
  {
   "cell_type": "code",
   "execution_count": 27,
   "metadata": {},
   "outputs": [
    {
     "data": {
      "text/plain": [
       "array([165.44908298, 180.69387943, 171.48967767, ..., 180.23294887,\n",
       "       188.07726492, 174.4139833 ])"
      ]
     },
     "execution_count": 27,
     "metadata": {},
     "output_type": "execute_result"
    }
   ],
   "source": [
    "men_height = np.random.normal(178, 8, size = 10_000)\n",
    "men_height"
   ]
  },
  {
   "cell_type": "code",
   "execution_count": 28,
   "metadata": {},
   "outputs": [
    {
     "data": {
      "text/plain": [
       "array([178.42150706, 174.35538045, 156.12916908, ..., 169.13740074,\n",
       "       182.44097789, 166.71775945])"
      ]
     },
     "execution_count": 28,
     "metadata": {},
     "output_type": "execute_result"
    }
   ],
   "source": [
    "women_height = np.random.normal(170, 6, size = 10_000)\n",
    "women_height"
   ]
  },
  {
   "cell_type": "markdown",
   "metadata": {},
   "source": [
    "- Step 2: Create dataframe with men and women heights"
   ]
  },
  {
   "cell_type": "code",
   "execution_count": 29,
   "metadata": {},
   "outputs": [],
   "source": [
    "height = pd.DataFrame({'Average Mens Height': men_height, 'Average Womens Height': women_height})"
   ]
  },
  {
   "cell_type": "code",
   "execution_count": 30,
   "metadata": {},
   "outputs": [
    {
     "data": {
      "text/html": [
       "<div>\n",
       "<style scoped>\n",
       "    .dataframe tbody tr th:only-of-type {\n",
       "        vertical-align: middle;\n",
       "    }\n",
       "\n",
       "    .dataframe tbody tr th {\n",
       "        vertical-align: top;\n",
       "    }\n",
       "\n",
       "    .dataframe thead th {\n",
       "        text-align: right;\n",
       "    }\n",
       "</style>\n",
       "<table border=\"1\" class=\"dataframe\">\n",
       "  <thead>\n",
       "    <tr style=\"text-align: right;\">\n",
       "      <th></th>\n",
       "      <th>Average Mens Height</th>\n",
       "      <th>Average Womens Height</th>\n",
       "    </tr>\n",
       "  </thead>\n",
       "  <tbody>\n",
       "    <tr>\n",
       "      <td>0</td>\n",
       "      <td>165.449083</td>\n",
       "      <td>178.421507</td>\n",
       "    </tr>\n",
       "    <tr>\n",
       "      <td>1</td>\n",
       "      <td>180.693879</td>\n",
       "      <td>174.355380</td>\n",
       "    </tr>\n",
       "    <tr>\n",
       "      <td>2</td>\n",
       "      <td>171.489678</td>\n",
       "      <td>156.129169</td>\n",
       "    </tr>\n",
       "    <tr>\n",
       "      <td>3</td>\n",
       "      <td>167.433377</td>\n",
       "      <td>163.603631</td>\n",
       "    </tr>\n",
       "    <tr>\n",
       "      <td>4</td>\n",
       "      <td>197.902595</td>\n",
       "      <td>176.675891</td>\n",
       "    </tr>\n",
       "    <tr>\n",
       "      <td>...</td>\n",
       "      <td>...</td>\n",
       "      <td>...</td>\n",
       "    </tr>\n",
       "    <tr>\n",
       "      <td>9995</td>\n",
       "      <td>183.175999</td>\n",
       "      <td>171.583828</td>\n",
       "    </tr>\n",
       "    <tr>\n",
       "      <td>9996</td>\n",
       "      <td>154.781519</td>\n",
       "      <td>174.941653</td>\n",
       "    </tr>\n",
       "    <tr>\n",
       "      <td>9997</td>\n",
       "      <td>180.232949</td>\n",
       "      <td>169.137401</td>\n",
       "    </tr>\n",
       "    <tr>\n",
       "      <td>9998</td>\n",
       "      <td>188.077265</td>\n",
       "      <td>182.440978</td>\n",
       "    </tr>\n",
       "    <tr>\n",
       "      <td>9999</td>\n",
       "      <td>174.413983</td>\n",
       "      <td>166.717759</td>\n",
       "    </tr>\n",
       "  </tbody>\n",
       "</table>\n",
       "<p>10000 rows × 2 columns</p>\n",
       "</div>"
      ],
      "text/plain": [
       "      Average Mens Height  Average Womens Height\n",
       "0              165.449083             178.421507\n",
       "1              180.693879             174.355380\n",
       "2              171.489678             156.129169\n",
       "3              167.433377             163.603631\n",
       "4              197.902595             176.675891\n",
       "...                   ...                    ...\n",
       "9995           183.175999             171.583828\n",
       "9996           154.781519             174.941653\n",
       "9997           180.232949             169.137401\n",
       "9998           188.077265             182.440978\n",
       "9999           174.413983             166.717759\n",
       "\n",
       "[10000 rows x 2 columns]"
      ]
     },
     "execution_count": 30,
     "metadata": {},
     "output_type": "execute_result"
    }
   ],
   "source": [
    "height"
   ]
  },
  {
   "cell_type": "markdown",
   "metadata": {},
   "source": [
    "- Step 3: Compare if average height of women is more than average height of man. This will create a boolean value of the instances where this is True or False"
   ]
  },
  {
   "cell_type": "code",
   "execution_count": 31,
   "metadata": {},
   "outputs": [],
   "source": [
    "height['Woman is taller than Man'] = (height['Average Womens Height'] > height['Average Mens Height'])"
   ]
  },
  {
   "cell_type": "code",
   "execution_count": 32,
   "metadata": {},
   "outputs": [
    {
     "data": {
      "text/html": [
       "<div>\n",
       "<style scoped>\n",
       "    .dataframe tbody tr th:only-of-type {\n",
       "        vertical-align: middle;\n",
       "    }\n",
       "\n",
       "    .dataframe tbody tr th {\n",
       "        vertical-align: top;\n",
       "    }\n",
       "\n",
       "    .dataframe thead th {\n",
       "        text-align: right;\n",
       "    }\n",
       "</style>\n",
       "<table border=\"1\" class=\"dataframe\">\n",
       "  <thead>\n",
       "    <tr style=\"text-align: right;\">\n",
       "      <th></th>\n",
       "      <th>Average Mens Height</th>\n",
       "      <th>Average Womens Height</th>\n",
       "      <th>Woman is taller than Man</th>\n",
       "    </tr>\n",
       "  </thead>\n",
       "  <tbody>\n",
       "    <tr>\n",
       "      <td>0</td>\n",
       "      <td>165.449083</td>\n",
       "      <td>178.421507</td>\n",
       "      <td>True</td>\n",
       "    </tr>\n",
       "    <tr>\n",
       "      <td>1</td>\n",
       "      <td>180.693879</td>\n",
       "      <td>174.355380</td>\n",
       "      <td>False</td>\n",
       "    </tr>\n",
       "    <tr>\n",
       "      <td>2</td>\n",
       "      <td>171.489678</td>\n",
       "      <td>156.129169</td>\n",
       "      <td>False</td>\n",
       "    </tr>\n",
       "    <tr>\n",
       "      <td>3</td>\n",
       "      <td>167.433377</td>\n",
       "      <td>163.603631</td>\n",
       "      <td>False</td>\n",
       "    </tr>\n",
       "    <tr>\n",
       "      <td>4</td>\n",
       "      <td>197.902595</td>\n",
       "      <td>176.675891</td>\n",
       "      <td>False</td>\n",
       "    </tr>\n",
       "    <tr>\n",
       "      <td>...</td>\n",
       "      <td>...</td>\n",
       "      <td>...</td>\n",
       "      <td>...</td>\n",
       "    </tr>\n",
       "    <tr>\n",
       "      <td>9995</td>\n",
       "      <td>183.175999</td>\n",
       "      <td>171.583828</td>\n",
       "      <td>False</td>\n",
       "    </tr>\n",
       "    <tr>\n",
       "      <td>9996</td>\n",
       "      <td>154.781519</td>\n",
       "      <td>174.941653</td>\n",
       "      <td>True</td>\n",
       "    </tr>\n",
       "    <tr>\n",
       "      <td>9997</td>\n",
       "      <td>180.232949</td>\n",
       "      <td>169.137401</td>\n",
       "      <td>False</td>\n",
       "    </tr>\n",
       "    <tr>\n",
       "      <td>9998</td>\n",
       "      <td>188.077265</td>\n",
       "      <td>182.440978</td>\n",
       "      <td>False</td>\n",
       "    </tr>\n",
       "    <tr>\n",
       "      <td>9999</td>\n",
       "      <td>174.413983</td>\n",
       "      <td>166.717759</td>\n",
       "      <td>False</td>\n",
       "    </tr>\n",
       "  </tbody>\n",
       "</table>\n",
       "<p>10000 rows × 3 columns</p>\n",
       "</div>"
      ],
      "text/plain": [
       "      Average Mens Height  Average Womens Height  Woman is taller than Man\n",
       "0              165.449083             178.421507                      True\n",
       "1              180.693879             174.355380                     False\n",
       "2              171.489678             156.129169                     False\n",
       "3              167.433377             163.603631                     False\n",
       "4              197.902595             176.675891                     False\n",
       "...                   ...                    ...                       ...\n",
       "9995           183.175999             171.583828                     False\n",
       "9996           154.781519             174.941653                      True\n",
       "9997           180.232949             169.137401                     False\n",
       "9998           188.077265             182.440978                     False\n",
       "9999           174.413983             166.717759                     False\n",
       "\n",
       "[10000 rows x 3 columns]"
      ]
     },
     "execution_count": 32,
     "metadata": {},
     "output_type": "execute_result"
    }
   ],
   "source": [
    "height"
   ]
  },
  {
   "cell_type": "code",
   "execution_count": 33,
   "metadata": {},
   "outputs": [
    {
     "data": {
      "text/plain": [
       "0.2083"
      ]
     },
     "execution_count": 33,
     "metadata": {},
     "output_type": "execute_result"
    }
   ],
   "source": [
    "probability_woman_is_taller_than_man= height['Woman is taller than Man'].mean()\n",
    "probability_woman_is_taller_than_man"
   ]
  },
  {
   "cell_type": "markdown",
   "metadata": {},
   "source": [
    "### 6.  When installing anaconda on a student's computer, there's a 1 in 250 chance that the download is corrupted and the installation fails. What are the odds that after having 50 students download anaconda, no one has an installation issue? 100 students?\n",
    "### What is the probability that we observe an installation issue within the first 150 students that download anaconda?"
   ]
  },
  {
   "cell_type": "markdown",
   "metadata": {},
   "source": [
    "- Represent your data\n",
    "- Make a matrix\n",
    "- Aggregate row-wise\n",
    "- Aggregate of aggregate"
   ]
  },
  {
   "cell_type": "markdown",
   "metadata": {},
   "source": [
    "- Step 1: Represent data in np array with np.random.choice"
   ]
  },
  {
   "cell_type": "code",
   "execution_count": 34,
   "metadata": {},
   "outputs": [
    {
     "data": {
      "text/plain": [
       "array([['not corrupted', 'not corrupted', 'not corrupted', ...,\n",
       "        'not corrupted', 'not corrupted', 'not corrupted'],\n",
       "       ['not corrupted', 'not corrupted', 'not corrupted', ...,\n",
       "        'not corrupted', 'not corrupted', 'corrupted'],\n",
       "       ['not corrupted', 'not corrupted', 'not corrupted', ...,\n",
       "        'not corrupted', 'not corrupted', 'not corrupted'],\n",
       "       ...,\n",
       "       ['not corrupted', 'not corrupted', 'not corrupted', ...,\n",
       "        'not corrupted', 'not corrupted', 'not corrupted'],\n",
       "       ['not corrupted', 'not corrupted', 'not corrupted', ...,\n",
       "        'not corrupted', 'not corrupted', 'not corrupted'],\n",
       "       ['not corrupted', 'not corrupted', 'not corrupted', ...,\n",
       "        'not corrupted', 'not corrupted', 'not corrupted']], dtype='<U13')"
      ]
     },
     "execution_count": 34,
     "metadata": {},
     "output_type": "execute_result"
    }
   ],
   "source": [
    "install = np.random.choice(['corrupted','not corrupted'], size = (10_000 , 50), p=[.004, .996])\n",
    "install"
   ]
  },
  {
   "cell_type": "markdown",
   "metadata": {},
   "source": [
    "- Step 2: Because the row-wise aggregate is more complicated than an simple sum, turn the np array into a pandas dataframe"
   ]
  },
  {
   "cell_type": "code",
   "execution_count": 35,
   "metadata": {},
   "outputs": [
    {
     "data": {
      "text/html": [
       "<div>\n",
       "<style scoped>\n",
       "    .dataframe tbody tr th:only-of-type {\n",
       "        vertical-align: middle;\n",
       "    }\n",
       "\n",
       "    .dataframe tbody tr th {\n",
       "        vertical-align: top;\n",
       "    }\n",
       "\n",
       "    .dataframe thead th {\n",
       "        text-align: right;\n",
       "    }\n",
       "</style>\n",
       "<table border=\"1\" class=\"dataframe\">\n",
       "  <thead>\n",
       "    <tr style=\"text-align: right;\">\n",
       "      <th></th>\n",
       "      <th>0</th>\n",
       "      <th>1</th>\n",
       "      <th>2</th>\n",
       "      <th>3</th>\n",
       "      <th>4</th>\n",
       "      <th>5</th>\n",
       "      <th>6</th>\n",
       "      <th>7</th>\n",
       "      <th>8</th>\n",
       "      <th>9</th>\n",
       "      <th>...</th>\n",
       "      <th>40</th>\n",
       "      <th>41</th>\n",
       "      <th>42</th>\n",
       "      <th>43</th>\n",
       "      <th>44</th>\n",
       "      <th>45</th>\n",
       "      <th>46</th>\n",
       "      <th>47</th>\n",
       "      <th>48</th>\n",
       "      <th>49</th>\n",
       "    </tr>\n",
       "  </thead>\n",
       "  <tbody>\n",
       "    <tr>\n",
       "      <td>0</td>\n",
       "      <td>not corrupted</td>\n",
       "      <td>not corrupted</td>\n",
       "      <td>not corrupted</td>\n",
       "      <td>not corrupted</td>\n",
       "      <td>not corrupted</td>\n",
       "      <td>not corrupted</td>\n",
       "      <td>not corrupted</td>\n",
       "      <td>not corrupted</td>\n",
       "      <td>not corrupted</td>\n",
       "      <td>not corrupted</td>\n",
       "      <td>...</td>\n",
       "      <td>not corrupted</td>\n",
       "      <td>not corrupted</td>\n",
       "      <td>not corrupted</td>\n",
       "      <td>not corrupted</td>\n",
       "      <td>not corrupted</td>\n",
       "      <td>not corrupted</td>\n",
       "      <td>not corrupted</td>\n",
       "      <td>not corrupted</td>\n",
       "      <td>not corrupted</td>\n",
       "      <td>not corrupted</td>\n",
       "    </tr>\n",
       "    <tr>\n",
       "      <td>1</td>\n",
       "      <td>not corrupted</td>\n",
       "      <td>not corrupted</td>\n",
       "      <td>not corrupted</td>\n",
       "      <td>not corrupted</td>\n",
       "      <td>not corrupted</td>\n",
       "      <td>not corrupted</td>\n",
       "      <td>not corrupted</td>\n",
       "      <td>not corrupted</td>\n",
       "      <td>not corrupted</td>\n",
       "      <td>not corrupted</td>\n",
       "      <td>...</td>\n",
       "      <td>not corrupted</td>\n",
       "      <td>not corrupted</td>\n",
       "      <td>not corrupted</td>\n",
       "      <td>not corrupted</td>\n",
       "      <td>not corrupted</td>\n",
       "      <td>not corrupted</td>\n",
       "      <td>not corrupted</td>\n",
       "      <td>not corrupted</td>\n",
       "      <td>not corrupted</td>\n",
       "      <td>corrupted</td>\n",
       "    </tr>\n",
       "    <tr>\n",
       "      <td>2</td>\n",
       "      <td>not corrupted</td>\n",
       "      <td>not corrupted</td>\n",
       "      <td>not corrupted</td>\n",
       "      <td>not corrupted</td>\n",
       "      <td>not corrupted</td>\n",
       "      <td>not corrupted</td>\n",
       "      <td>not corrupted</td>\n",
       "      <td>not corrupted</td>\n",
       "      <td>not corrupted</td>\n",
       "      <td>not corrupted</td>\n",
       "      <td>...</td>\n",
       "      <td>not corrupted</td>\n",
       "      <td>not corrupted</td>\n",
       "      <td>not corrupted</td>\n",
       "      <td>not corrupted</td>\n",
       "      <td>not corrupted</td>\n",
       "      <td>not corrupted</td>\n",
       "      <td>not corrupted</td>\n",
       "      <td>not corrupted</td>\n",
       "      <td>not corrupted</td>\n",
       "      <td>not corrupted</td>\n",
       "    </tr>\n",
       "    <tr>\n",
       "      <td>3</td>\n",
       "      <td>not corrupted</td>\n",
       "      <td>not corrupted</td>\n",
       "      <td>not corrupted</td>\n",
       "      <td>not corrupted</td>\n",
       "      <td>not corrupted</td>\n",
       "      <td>not corrupted</td>\n",
       "      <td>corrupted</td>\n",
       "      <td>not corrupted</td>\n",
       "      <td>not corrupted</td>\n",
       "      <td>not corrupted</td>\n",
       "      <td>...</td>\n",
       "      <td>not corrupted</td>\n",
       "      <td>not corrupted</td>\n",
       "      <td>not corrupted</td>\n",
       "      <td>not corrupted</td>\n",
       "      <td>not corrupted</td>\n",
       "      <td>not corrupted</td>\n",
       "      <td>not corrupted</td>\n",
       "      <td>not corrupted</td>\n",
       "      <td>not corrupted</td>\n",
       "      <td>not corrupted</td>\n",
       "    </tr>\n",
       "    <tr>\n",
       "      <td>4</td>\n",
       "      <td>not corrupted</td>\n",
       "      <td>not corrupted</td>\n",
       "      <td>not corrupted</td>\n",
       "      <td>not corrupted</td>\n",
       "      <td>not corrupted</td>\n",
       "      <td>not corrupted</td>\n",
       "      <td>not corrupted</td>\n",
       "      <td>not corrupted</td>\n",
       "      <td>not corrupted</td>\n",
       "      <td>not corrupted</td>\n",
       "      <td>...</td>\n",
       "      <td>not corrupted</td>\n",
       "      <td>not corrupted</td>\n",
       "      <td>not corrupted</td>\n",
       "      <td>not corrupted</td>\n",
       "      <td>not corrupted</td>\n",
       "      <td>not corrupted</td>\n",
       "      <td>not corrupted</td>\n",
       "      <td>not corrupted</td>\n",
       "      <td>not corrupted</td>\n",
       "      <td>not corrupted</td>\n",
       "    </tr>\n",
       "    <tr>\n",
       "      <td>...</td>\n",
       "      <td>...</td>\n",
       "      <td>...</td>\n",
       "      <td>...</td>\n",
       "      <td>...</td>\n",
       "      <td>...</td>\n",
       "      <td>...</td>\n",
       "      <td>...</td>\n",
       "      <td>...</td>\n",
       "      <td>...</td>\n",
       "      <td>...</td>\n",
       "      <td>...</td>\n",
       "      <td>...</td>\n",
       "      <td>...</td>\n",
       "      <td>...</td>\n",
       "      <td>...</td>\n",
       "      <td>...</td>\n",
       "      <td>...</td>\n",
       "      <td>...</td>\n",
       "      <td>...</td>\n",
       "      <td>...</td>\n",
       "      <td>...</td>\n",
       "    </tr>\n",
       "    <tr>\n",
       "      <td>9995</td>\n",
       "      <td>not corrupted</td>\n",
       "      <td>not corrupted</td>\n",
       "      <td>not corrupted</td>\n",
       "      <td>not corrupted</td>\n",
       "      <td>not corrupted</td>\n",
       "      <td>not corrupted</td>\n",
       "      <td>not corrupted</td>\n",
       "      <td>not corrupted</td>\n",
       "      <td>not corrupted</td>\n",
       "      <td>not corrupted</td>\n",
       "      <td>...</td>\n",
       "      <td>not corrupted</td>\n",
       "      <td>not corrupted</td>\n",
       "      <td>not corrupted</td>\n",
       "      <td>not corrupted</td>\n",
       "      <td>not corrupted</td>\n",
       "      <td>not corrupted</td>\n",
       "      <td>not corrupted</td>\n",
       "      <td>not corrupted</td>\n",
       "      <td>not corrupted</td>\n",
       "      <td>not corrupted</td>\n",
       "    </tr>\n",
       "    <tr>\n",
       "      <td>9996</td>\n",
       "      <td>not corrupted</td>\n",
       "      <td>not corrupted</td>\n",
       "      <td>not corrupted</td>\n",
       "      <td>not corrupted</td>\n",
       "      <td>not corrupted</td>\n",
       "      <td>not corrupted</td>\n",
       "      <td>not corrupted</td>\n",
       "      <td>not corrupted</td>\n",
       "      <td>not corrupted</td>\n",
       "      <td>not corrupted</td>\n",
       "      <td>...</td>\n",
       "      <td>not corrupted</td>\n",
       "      <td>not corrupted</td>\n",
       "      <td>not corrupted</td>\n",
       "      <td>not corrupted</td>\n",
       "      <td>not corrupted</td>\n",
       "      <td>not corrupted</td>\n",
       "      <td>not corrupted</td>\n",
       "      <td>not corrupted</td>\n",
       "      <td>not corrupted</td>\n",
       "      <td>not corrupted</td>\n",
       "    </tr>\n",
       "    <tr>\n",
       "      <td>9997</td>\n",
       "      <td>not corrupted</td>\n",
       "      <td>not corrupted</td>\n",
       "      <td>not corrupted</td>\n",
       "      <td>not corrupted</td>\n",
       "      <td>not corrupted</td>\n",
       "      <td>not corrupted</td>\n",
       "      <td>not corrupted</td>\n",
       "      <td>not corrupted</td>\n",
       "      <td>not corrupted</td>\n",
       "      <td>not corrupted</td>\n",
       "      <td>...</td>\n",
       "      <td>not corrupted</td>\n",
       "      <td>not corrupted</td>\n",
       "      <td>not corrupted</td>\n",
       "      <td>not corrupted</td>\n",
       "      <td>not corrupted</td>\n",
       "      <td>not corrupted</td>\n",
       "      <td>not corrupted</td>\n",
       "      <td>not corrupted</td>\n",
       "      <td>not corrupted</td>\n",
       "      <td>not corrupted</td>\n",
       "    </tr>\n",
       "    <tr>\n",
       "      <td>9998</td>\n",
       "      <td>not corrupted</td>\n",
       "      <td>not corrupted</td>\n",
       "      <td>not corrupted</td>\n",
       "      <td>not corrupted</td>\n",
       "      <td>not corrupted</td>\n",
       "      <td>not corrupted</td>\n",
       "      <td>not corrupted</td>\n",
       "      <td>not corrupted</td>\n",
       "      <td>not corrupted</td>\n",
       "      <td>not corrupted</td>\n",
       "      <td>...</td>\n",
       "      <td>not corrupted</td>\n",
       "      <td>not corrupted</td>\n",
       "      <td>not corrupted</td>\n",
       "      <td>not corrupted</td>\n",
       "      <td>not corrupted</td>\n",
       "      <td>not corrupted</td>\n",
       "      <td>not corrupted</td>\n",
       "      <td>not corrupted</td>\n",
       "      <td>not corrupted</td>\n",
       "      <td>not corrupted</td>\n",
       "    </tr>\n",
       "    <tr>\n",
       "      <td>9999</td>\n",
       "      <td>not corrupted</td>\n",
       "      <td>not corrupted</td>\n",
       "      <td>not corrupted</td>\n",
       "      <td>not corrupted</td>\n",
       "      <td>not corrupted</td>\n",
       "      <td>not corrupted</td>\n",
       "      <td>not corrupted</td>\n",
       "      <td>not corrupted</td>\n",
       "      <td>not corrupted</td>\n",
       "      <td>not corrupted</td>\n",
       "      <td>...</td>\n",
       "      <td>not corrupted</td>\n",
       "      <td>not corrupted</td>\n",
       "      <td>not corrupted</td>\n",
       "      <td>not corrupted</td>\n",
       "      <td>not corrupted</td>\n",
       "      <td>not corrupted</td>\n",
       "      <td>not corrupted</td>\n",
       "      <td>not corrupted</td>\n",
       "      <td>not corrupted</td>\n",
       "      <td>not corrupted</td>\n",
       "    </tr>\n",
       "  </tbody>\n",
       "</table>\n",
       "<p>10000 rows × 50 columns</p>\n",
       "</div>"
      ],
      "text/plain": [
       "                 0              1              2              3   \\\n",
       "0     not corrupted  not corrupted  not corrupted  not corrupted   \n",
       "1     not corrupted  not corrupted  not corrupted  not corrupted   \n",
       "2     not corrupted  not corrupted  not corrupted  not corrupted   \n",
       "3     not corrupted  not corrupted  not corrupted  not corrupted   \n",
       "4     not corrupted  not corrupted  not corrupted  not corrupted   \n",
       "...             ...            ...            ...            ...   \n",
       "9995  not corrupted  not corrupted  not corrupted  not corrupted   \n",
       "9996  not corrupted  not corrupted  not corrupted  not corrupted   \n",
       "9997  not corrupted  not corrupted  not corrupted  not corrupted   \n",
       "9998  not corrupted  not corrupted  not corrupted  not corrupted   \n",
       "9999  not corrupted  not corrupted  not corrupted  not corrupted   \n",
       "\n",
       "                 4              5              6              7   \\\n",
       "0     not corrupted  not corrupted  not corrupted  not corrupted   \n",
       "1     not corrupted  not corrupted  not corrupted  not corrupted   \n",
       "2     not corrupted  not corrupted  not corrupted  not corrupted   \n",
       "3     not corrupted  not corrupted      corrupted  not corrupted   \n",
       "4     not corrupted  not corrupted  not corrupted  not corrupted   \n",
       "...             ...            ...            ...            ...   \n",
       "9995  not corrupted  not corrupted  not corrupted  not corrupted   \n",
       "9996  not corrupted  not corrupted  not corrupted  not corrupted   \n",
       "9997  not corrupted  not corrupted  not corrupted  not corrupted   \n",
       "9998  not corrupted  not corrupted  not corrupted  not corrupted   \n",
       "9999  not corrupted  not corrupted  not corrupted  not corrupted   \n",
       "\n",
       "                 8              9   ...             40             41  \\\n",
       "0     not corrupted  not corrupted  ...  not corrupted  not corrupted   \n",
       "1     not corrupted  not corrupted  ...  not corrupted  not corrupted   \n",
       "2     not corrupted  not corrupted  ...  not corrupted  not corrupted   \n",
       "3     not corrupted  not corrupted  ...  not corrupted  not corrupted   \n",
       "4     not corrupted  not corrupted  ...  not corrupted  not corrupted   \n",
       "...             ...            ...  ...            ...            ...   \n",
       "9995  not corrupted  not corrupted  ...  not corrupted  not corrupted   \n",
       "9996  not corrupted  not corrupted  ...  not corrupted  not corrupted   \n",
       "9997  not corrupted  not corrupted  ...  not corrupted  not corrupted   \n",
       "9998  not corrupted  not corrupted  ...  not corrupted  not corrupted   \n",
       "9999  not corrupted  not corrupted  ...  not corrupted  not corrupted   \n",
       "\n",
       "                 42             43             44             45  \\\n",
       "0     not corrupted  not corrupted  not corrupted  not corrupted   \n",
       "1     not corrupted  not corrupted  not corrupted  not corrupted   \n",
       "2     not corrupted  not corrupted  not corrupted  not corrupted   \n",
       "3     not corrupted  not corrupted  not corrupted  not corrupted   \n",
       "4     not corrupted  not corrupted  not corrupted  not corrupted   \n",
       "...             ...            ...            ...            ...   \n",
       "9995  not corrupted  not corrupted  not corrupted  not corrupted   \n",
       "9996  not corrupted  not corrupted  not corrupted  not corrupted   \n",
       "9997  not corrupted  not corrupted  not corrupted  not corrupted   \n",
       "9998  not corrupted  not corrupted  not corrupted  not corrupted   \n",
       "9999  not corrupted  not corrupted  not corrupted  not corrupted   \n",
       "\n",
       "                 46             47             48             49  \n",
       "0     not corrupted  not corrupted  not corrupted  not corrupted  \n",
       "1     not corrupted  not corrupted  not corrupted      corrupted  \n",
       "2     not corrupted  not corrupted  not corrupted  not corrupted  \n",
       "3     not corrupted  not corrupted  not corrupted  not corrupted  \n",
       "4     not corrupted  not corrupted  not corrupted  not corrupted  \n",
       "...             ...            ...            ...            ...  \n",
       "9995  not corrupted  not corrupted  not corrupted  not corrupted  \n",
       "9996  not corrupted  not corrupted  not corrupted  not corrupted  \n",
       "9997  not corrupted  not corrupted  not corrupted  not corrupted  \n",
       "9998  not corrupted  not corrupted  not corrupted  not corrupted  \n",
       "9999  not corrupted  not corrupted  not corrupted  not corrupted  \n",
       "\n",
       "[10000 rows x 50 columns]"
      ]
     },
     "execution_count": 35,
     "metadata": {},
     "output_type": "execute_result"
    }
   ],
   "source": [
    "installdf = pd.DataFrame(install)\n",
    "installdf"
   ]
  },
  {
   "cell_type": "markdown",
   "metadata": {},
   "source": [
    "- Step 3: Write a function that tells if all trials were not corrupted, then apply to dataframe."
   ]
  },
  {
   "cell_type": "code",
   "execution_count": 36,
   "metadata": {},
   "outputs": [],
   "source": [
    "def no_intallation_issues(one_row: pd.Series) -> bool:\n",
    "    return (one_row == 'not corrupted').all()"
   ]
  },
  {
   "cell_type": "code",
   "execution_count": 37,
   "metadata": {},
   "outputs": [
    {
     "data": {
      "text/plain": [
       "0        True\n",
       "1       False\n",
       "2        True\n",
       "3       False\n",
       "4        True\n",
       "        ...  \n",
       "9995     True\n",
       "9996     True\n",
       "9997     True\n",
       "9998     True\n",
       "9999     True\n",
       "Length: 10000, dtype: bool"
      ]
     },
     "execution_count": 37,
     "metadata": {},
     "output_type": "execute_result"
    }
   ],
   "source": [
    "installdf.apply(no_intallation_issues, axis = 1)"
   ]
  },
  {
   "cell_type": "markdown",
   "metadata": {},
   "source": [
    "- Step 4: To answer the question \"What are the odds?\" use .mean()"
   ]
  },
  {
   "cell_type": "code",
   "execution_count": 38,
   "metadata": {},
   "outputs": [],
   "source": [
    "odds_of_successful_installation_for_50_students = installdf.apply(no_intallation_issues, axis = 1).mean()"
   ]
  },
  {
   "cell_type": "code",
   "execution_count": 39,
   "metadata": {},
   "outputs": [
    {
     "data": {
      "text/plain": [
       "0.8179"
      ]
     },
     "execution_count": 39,
     "metadata": {},
     "output_type": "execute_result"
    }
   ],
   "source": [
    "odds_of_successful_installation_for_50_students"
   ]
  },
  {
   "cell_type": "markdown",
   "metadata": {},
   "source": [
    "### for 100 students?"
   ]
  },
  {
   "cell_type": "code",
   "execution_count": 40,
   "metadata": {},
   "outputs": [
    {
     "data": {
      "text/plain": [
       "array([['not corrupted', 'not corrupted', 'not corrupted', ...,\n",
       "        'not corrupted', 'not corrupted', 'not corrupted'],\n",
       "       ['not corrupted', 'not corrupted', 'not corrupted', ...,\n",
       "        'not corrupted', 'not corrupted', 'not corrupted'],\n",
       "       ['not corrupted', 'not corrupted', 'not corrupted', ...,\n",
       "        'not corrupted', 'not corrupted', 'not corrupted'],\n",
       "       ...,\n",
       "       ['not corrupted', 'not corrupted', 'not corrupted', ...,\n",
       "        'not corrupted', 'not corrupted', 'not corrupted'],\n",
       "       ['not corrupted', 'not corrupted', 'not corrupted', ...,\n",
       "        'not corrupted', 'not corrupted', 'not corrupted'],\n",
       "       ['not corrupted', 'not corrupted', 'not corrupted', ...,\n",
       "        'not corrupted', 'not corrupted', 'not corrupted']], dtype='<U13')"
      ]
     },
     "execution_count": 40,
     "metadata": {},
     "output_type": "execute_result"
    }
   ],
   "source": [
    "install1 = np.random.choice(['corrupted','not corrupted'], size = (10_000 , 100), p=[.004, .996])\n",
    "install1"
   ]
  },
  {
   "cell_type": "code",
   "execution_count": 41,
   "metadata": {},
   "outputs": [
    {
     "data": {
      "text/html": [
       "<div>\n",
       "<style scoped>\n",
       "    .dataframe tbody tr th:only-of-type {\n",
       "        vertical-align: middle;\n",
       "    }\n",
       "\n",
       "    .dataframe tbody tr th {\n",
       "        vertical-align: top;\n",
       "    }\n",
       "\n",
       "    .dataframe thead th {\n",
       "        text-align: right;\n",
       "    }\n",
       "</style>\n",
       "<table border=\"1\" class=\"dataframe\">\n",
       "  <thead>\n",
       "    <tr style=\"text-align: right;\">\n",
       "      <th></th>\n",
       "      <th>0</th>\n",
       "      <th>1</th>\n",
       "      <th>2</th>\n",
       "      <th>3</th>\n",
       "      <th>4</th>\n",
       "      <th>5</th>\n",
       "      <th>6</th>\n",
       "      <th>7</th>\n",
       "      <th>8</th>\n",
       "      <th>9</th>\n",
       "      <th>...</th>\n",
       "      <th>40</th>\n",
       "      <th>41</th>\n",
       "      <th>42</th>\n",
       "      <th>43</th>\n",
       "      <th>44</th>\n",
       "      <th>45</th>\n",
       "      <th>46</th>\n",
       "      <th>47</th>\n",
       "      <th>48</th>\n",
       "      <th>49</th>\n",
       "    </tr>\n",
       "  </thead>\n",
       "  <tbody>\n",
       "    <tr>\n",
       "      <td>0</td>\n",
       "      <td>not corrupted</td>\n",
       "      <td>not corrupted</td>\n",
       "      <td>not corrupted</td>\n",
       "      <td>not corrupted</td>\n",
       "      <td>not corrupted</td>\n",
       "      <td>not corrupted</td>\n",
       "      <td>not corrupted</td>\n",
       "      <td>not corrupted</td>\n",
       "      <td>not corrupted</td>\n",
       "      <td>not corrupted</td>\n",
       "      <td>...</td>\n",
       "      <td>not corrupted</td>\n",
       "      <td>not corrupted</td>\n",
       "      <td>not corrupted</td>\n",
       "      <td>not corrupted</td>\n",
       "      <td>not corrupted</td>\n",
       "      <td>not corrupted</td>\n",
       "      <td>not corrupted</td>\n",
       "      <td>not corrupted</td>\n",
       "      <td>not corrupted</td>\n",
       "      <td>not corrupted</td>\n",
       "    </tr>\n",
       "    <tr>\n",
       "      <td>1</td>\n",
       "      <td>not corrupted</td>\n",
       "      <td>not corrupted</td>\n",
       "      <td>not corrupted</td>\n",
       "      <td>not corrupted</td>\n",
       "      <td>not corrupted</td>\n",
       "      <td>not corrupted</td>\n",
       "      <td>not corrupted</td>\n",
       "      <td>not corrupted</td>\n",
       "      <td>not corrupted</td>\n",
       "      <td>not corrupted</td>\n",
       "      <td>...</td>\n",
       "      <td>not corrupted</td>\n",
       "      <td>not corrupted</td>\n",
       "      <td>not corrupted</td>\n",
       "      <td>not corrupted</td>\n",
       "      <td>not corrupted</td>\n",
       "      <td>not corrupted</td>\n",
       "      <td>not corrupted</td>\n",
       "      <td>not corrupted</td>\n",
       "      <td>not corrupted</td>\n",
       "      <td>corrupted</td>\n",
       "    </tr>\n",
       "    <tr>\n",
       "      <td>2</td>\n",
       "      <td>not corrupted</td>\n",
       "      <td>not corrupted</td>\n",
       "      <td>not corrupted</td>\n",
       "      <td>not corrupted</td>\n",
       "      <td>not corrupted</td>\n",
       "      <td>not corrupted</td>\n",
       "      <td>not corrupted</td>\n",
       "      <td>not corrupted</td>\n",
       "      <td>not corrupted</td>\n",
       "      <td>not corrupted</td>\n",
       "      <td>...</td>\n",
       "      <td>not corrupted</td>\n",
       "      <td>not corrupted</td>\n",
       "      <td>not corrupted</td>\n",
       "      <td>not corrupted</td>\n",
       "      <td>not corrupted</td>\n",
       "      <td>not corrupted</td>\n",
       "      <td>not corrupted</td>\n",
       "      <td>not corrupted</td>\n",
       "      <td>not corrupted</td>\n",
       "      <td>not corrupted</td>\n",
       "    </tr>\n",
       "    <tr>\n",
       "      <td>3</td>\n",
       "      <td>not corrupted</td>\n",
       "      <td>not corrupted</td>\n",
       "      <td>not corrupted</td>\n",
       "      <td>not corrupted</td>\n",
       "      <td>not corrupted</td>\n",
       "      <td>not corrupted</td>\n",
       "      <td>corrupted</td>\n",
       "      <td>not corrupted</td>\n",
       "      <td>not corrupted</td>\n",
       "      <td>not corrupted</td>\n",
       "      <td>...</td>\n",
       "      <td>not corrupted</td>\n",
       "      <td>not corrupted</td>\n",
       "      <td>not corrupted</td>\n",
       "      <td>not corrupted</td>\n",
       "      <td>not corrupted</td>\n",
       "      <td>not corrupted</td>\n",
       "      <td>not corrupted</td>\n",
       "      <td>not corrupted</td>\n",
       "      <td>not corrupted</td>\n",
       "      <td>not corrupted</td>\n",
       "    </tr>\n",
       "    <tr>\n",
       "      <td>4</td>\n",
       "      <td>not corrupted</td>\n",
       "      <td>not corrupted</td>\n",
       "      <td>not corrupted</td>\n",
       "      <td>not corrupted</td>\n",
       "      <td>not corrupted</td>\n",
       "      <td>not corrupted</td>\n",
       "      <td>not corrupted</td>\n",
       "      <td>not corrupted</td>\n",
       "      <td>not corrupted</td>\n",
       "      <td>not corrupted</td>\n",
       "      <td>...</td>\n",
       "      <td>not corrupted</td>\n",
       "      <td>not corrupted</td>\n",
       "      <td>not corrupted</td>\n",
       "      <td>not corrupted</td>\n",
       "      <td>not corrupted</td>\n",
       "      <td>not corrupted</td>\n",
       "      <td>not corrupted</td>\n",
       "      <td>not corrupted</td>\n",
       "      <td>not corrupted</td>\n",
       "      <td>not corrupted</td>\n",
       "    </tr>\n",
       "    <tr>\n",
       "      <td>...</td>\n",
       "      <td>...</td>\n",
       "      <td>...</td>\n",
       "      <td>...</td>\n",
       "      <td>...</td>\n",
       "      <td>...</td>\n",
       "      <td>...</td>\n",
       "      <td>...</td>\n",
       "      <td>...</td>\n",
       "      <td>...</td>\n",
       "      <td>...</td>\n",
       "      <td>...</td>\n",
       "      <td>...</td>\n",
       "      <td>...</td>\n",
       "      <td>...</td>\n",
       "      <td>...</td>\n",
       "      <td>...</td>\n",
       "      <td>...</td>\n",
       "      <td>...</td>\n",
       "      <td>...</td>\n",
       "      <td>...</td>\n",
       "      <td>...</td>\n",
       "    </tr>\n",
       "    <tr>\n",
       "      <td>9995</td>\n",
       "      <td>not corrupted</td>\n",
       "      <td>not corrupted</td>\n",
       "      <td>not corrupted</td>\n",
       "      <td>not corrupted</td>\n",
       "      <td>not corrupted</td>\n",
       "      <td>not corrupted</td>\n",
       "      <td>not corrupted</td>\n",
       "      <td>not corrupted</td>\n",
       "      <td>not corrupted</td>\n",
       "      <td>not corrupted</td>\n",
       "      <td>...</td>\n",
       "      <td>not corrupted</td>\n",
       "      <td>not corrupted</td>\n",
       "      <td>not corrupted</td>\n",
       "      <td>not corrupted</td>\n",
       "      <td>not corrupted</td>\n",
       "      <td>not corrupted</td>\n",
       "      <td>not corrupted</td>\n",
       "      <td>not corrupted</td>\n",
       "      <td>not corrupted</td>\n",
       "      <td>not corrupted</td>\n",
       "    </tr>\n",
       "    <tr>\n",
       "      <td>9996</td>\n",
       "      <td>not corrupted</td>\n",
       "      <td>not corrupted</td>\n",
       "      <td>not corrupted</td>\n",
       "      <td>not corrupted</td>\n",
       "      <td>not corrupted</td>\n",
       "      <td>not corrupted</td>\n",
       "      <td>not corrupted</td>\n",
       "      <td>not corrupted</td>\n",
       "      <td>not corrupted</td>\n",
       "      <td>not corrupted</td>\n",
       "      <td>...</td>\n",
       "      <td>not corrupted</td>\n",
       "      <td>not corrupted</td>\n",
       "      <td>not corrupted</td>\n",
       "      <td>not corrupted</td>\n",
       "      <td>not corrupted</td>\n",
       "      <td>not corrupted</td>\n",
       "      <td>not corrupted</td>\n",
       "      <td>not corrupted</td>\n",
       "      <td>not corrupted</td>\n",
       "      <td>not corrupted</td>\n",
       "    </tr>\n",
       "    <tr>\n",
       "      <td>9997</td>\n",
       "      <td>not corrupted</td>\n",
       "      <td>not corrupted</td>\n",
       "      <td>not corrupted</td>\n",
       "      <td>not corrupted</td>\n",
       "      <td>not corrupted</td>\n",
       "      <td>not corrupted</td>\n",
       "      <td>not corrupted</td>\n",
       "      <td>not corrupted</td>\n",
       "      <td>not corrupted</td>\n",
       "      <td>not corrupted</td>\n",
       "      <td>...</td>\n",
       "      <td>not corrupted</td>\n",
       "      <td>not corrupted</td>\n",
       "      <td>not corrupted</td>\n",
       "      <td>not corrupted</td>\n",
       "      <td>not corrupted</td>\n",
       "      <td>not corrupted</td>\n",
       "      <td>not corrupted</td>\n",
       "      <td>not corrupted</td>\n",
       "      <td>not corrupted</td>\n",
       "      <td>not corrupted</td>\n",
       "    </tr>\n",
       "    <tr>\n",
       "      <td>9998</td>\n",
       "      <td>not corrupted</td>\n",
       "      <td>not corrupted</td>\n",
       "      <td>not corrupted</td>\n",
       "      <td>not corrupted</td>\n",
       "      <td>not corrupted</td>\n",
       "      <td>not corrupted</td>\n",
       "      <td>not corrupted</td>\n",
       "      <td>not corrupted</td>\n",
       "      <td>not corrupted</td>\n",
       "      <td>not corrupted</td>\n",
       "      <td>...</td>\n",
       "      <td>not corrupted</td>\n",
       "      <td>not corrupted</td>\n",
       "      <td>not corrupted</td>\n",
       "      <td>not corrupted</td>\n",
       "      <td>not corrupted</td>\n",
       "      <td>not corrupted</td>\n",
       "      <td>not corrupted</td>\n",
       "      <td>not corrupted</td>\n",
       "      <td>not corrupted</td>\n",
       "      <td>not corrupted</td>\n",
       "    </tr>\n",
       "    <tr>\n",
       "      <td>9999</td>\n",
       "      <td>not corrupted</td>\n",
       "      <td>not corrupted</td>\n",
       "      <td>not corrupted</td>\n",
       "      <td>not corrupted</td>\n",
       "      <td>not corrupted</td>\n",
       "      <td>not corrupted</td>\n",
       "      <td>not corrupted</td>\n",
       "      <td>not corrupted</td>\n",
       "      <td>not corrupted</td>\n",
       "      <td>not corrupted</td>\n",
       "      <td>...</td>\n",
       "      <td>not corrupted</td>\n",
       "      <td>not corrupted</td>\n",
       "      <td>not corrupted</td>\n",
       "      <td>not corrupted</td>\n",
       "      <td>not corrupted</td>\n",
       "      <td>not corrupted</td>\n",
       "      <td>not corrupted</td>\n",
       "      <td>not corrupted</td>\n",
       "      <td>not corrupted</td>\n",
       "      <td>not corrupted</td>\n",
       "    </tr>\n",
       "  </tbody>\n",
       "</table>\n",
       "<p>10000 rows × 50 columns</p>\n",
       "</div>"
      ],
      "text/plain": [
       "                 0              1              2              3   \\\n",
       "0     not corrupted  not corrupted  not corrupted  not corrupted   \n",
       "1     not corrupted  not corrupted  not corrupted  not corrupted   \n",
       "2     not corrupted  not corrupted  not corrupted  not corrupted   \n",
       "3     not corrupted  not corrupted  not corrupted  not corrupted   \n",
       "4     not corrupted  not corrupted  not corrupted  not corrupted   \n",
       "...             ...            ...            ...            ...   \n",
       "9995  not corrupted  not corrupted  not corrupted  not corrupted   \n",
       "9996  not corrupted  not corrupted  not corrupted  not corrupted   \n",
       "9997  not corrupted  not corrupted  not corrupted  not corrupted   \n",
       "9998  not corrupted  not corrupted  not corrupted  not corrupted   \n",
       "9999  not corrupted  not corrupted  not corrupted  not corrupted   \n",
       "\n",
       "                 4              5              6              7   \\\n",
       "0     not corrupted  not corrupted  not corrupted  not corrupted   \n",
       "1     not corrupted  not corrupted  not corrupted  not corrupted   \n",
       "2     not corrupted  not corrupted  not corrupted  not corrupted   \n",
       "3     not corrupted  not corrupted      corrupted  not corrupted   \n",
       "4     not corrupted  not corrupted  not corrupted  not corrupted   \n",
       "...             ...            ...            ...            ...   \n",
       "9995  not corrupted  not corrupted  not corrupted  not corrupted   \n",
       "9996  not corrupted  not corrupted  not corrupted  not corrupted   \n",
       "9997  not corrupted  not corrupted  not corrupted  not corrupted   \n",
       "9998  not corrupted  not corrupted  not corrupted  not corrupted   \n",
       "9999  not corrupted  not corrupted  not corrupted  not corrupted   \n",
       "\n",
       "                 8              9   ...             40             41  \\\n",
       "0     not corrupted  not corrupted  ...  not corrupted  not corrupted   \n",
       "1     not corrupted  not corrupted  ...  not corrupted  not corrupted   \n",
       "2     not corrupted  not corrupted  ...  not corrupted  not corrupted   \n",
       "3     not corrupted  not corrupted  ...  not corrupted  not corrupted   \n",
       "4     not corrupted  not corrupted  ...  not corrupted  not corrupted   \n",
       "...             ...            ...  ...            ...            ...   \n",
       "9995  not corrupted  not corrupted  ...  not corrupted  not corrupted   \n",
       "9996  not corrupted  not corrupted  ...  not corrupted  not corrupted   \n",
       "9997  not corrupted  not corrupted  ...  not corrupted  not corrupted   \n",
       "9998  not corrupted  not corrupted  ...  not corrupted  not corrupted   \n",
       "9999  not corrupted  not corrupted  ...  not corrupted  not corrupted   \n",
       "\n",
       "                 42             43             44             45  \\\n",
       "0     not corrupted  not corrupted  not corrupted  not corrupted   \n",
       "1     not corrupted  not corrupted  not corrupted  not corrupted   \n",
       "2     not corrupted  not corrupted  not corrupted  not corrupted   \n",
       "3     not corrupted  not corrupted  not corrupted  not corrupted   \n",
       "4     not corrupted  not corrupted  not corrupted  not corrupted   \n",
       "...             ...            ...            ...            ...   \n",
       "9995  not corrupted  not corrupted  not corrupted  not corrupted   \n",
       "9996  not corrupted  not corrupted  not corrupted  not corrupted   \n",
       "9997  not corrupted  not corrupted  not corrupted  not corrupted   \n",
       "9998  not corrupted  not corrupted  not corrupted  not corrupted   \n",
       "9999  not corrupted  not corrupted  not corrupted  not corrupted   \n",
       "\n",
       "                 46             47             48             49  \n",
       "0     not corrupted  not corrupted  not corrupted  not corrupted  \n",
       "1     not corrupted  not corrupted  not corrupted      corrupted  \n",
       "2     not corrupted  not corrupted  not corrupted  not corrupted  \n",
       "3     not corrupted  not corrupted  not corrupted  not corrupted  \n",
       "4     not corrupted  not corrupted  not corrupted  not corrupted  \n",
       "...             ...            ...            ...            ...  \n",
       "9995  not corrupted  not corrupted  not corrupted  not corrupted  \n",
       "9996  not corrupted  not corrupted  not corrupted  not corrupted  \n",
       "9997  not corrupted  not corrupted  not corrupted  not corrupted  \n",
       "9998  not corrupted  not corrupted  not corrupted  not corrupted  \n",
       "9999  not corrupted  not corrupted  not corrupted  not corrupted  \n",
       "\n",
       "[10000 rows x 50 columns]"
      ]
     },
     "execution_count": 41,
     "metadata": {},
     "output_type": "execute_result"
    }
   ],
   "source": [
    "install1df = pd.DataFrame(install)\n",
    "install1df"
   ]
  },
  {
   "cell_type": "code",
   "execution_count": 42,
   "metadata": {},
   "outputs": [],
   "source": [
    "odds_of_successful_installation_for_100_students = install1df.apply(no_intallation_issues, axis = 1).mean()"
   ]
  },
  {
   "cell_type": "code",
   "execution_count": 43,
   "metadata": {},
   "outputs": [
    {
     "data": {
      "text/plain": [
       "0.8179"
      ]
     },
     "execution_count": 43,
     "metadata": {},
     "output_type": "execute_result"
    }
   ],
   "source": [
    "odds_of_successful_installation_for_100_students "
   ]
  },
  {
   "cell_type": "markdown",
   "metadata": {},
   "source": [
    "### 7. There's a 70% chance on any given day that there will be at least one food truck at Travis Park. However, you haven't seen a food truck there in 3 days. How unlikely is this?"
   ]
  },
  {
   "cell_type": "markdown",
   "metadata": {},
   "source": [
    "- Represent your data\n",
    "- Make a matrix\n",
    "- Aggregate row-wise\n",
    "- Aggregate of aggregate"
   ]
  },
  {
   "cell_type": "markdown",
   "metadata": {},
   "source": [
    "- Step 1: Represent data in np array with np.random.choice"
   ]
  },
  {
   "cell_type": "code",
   "execution_count": 44,
   "metadata": {},
   "outputs": [
    {
     "data": {
      "text/plain": [
       "array([['FT', 'FT', 'NFT'],\n",
       "       ['NFT', 'NFT', 'FT'],\n",
       "       ['FT', 'NFT', 'FT'],\n",
       "       ...,\n",
       "       ['NFT', 'FT', 'NFT'],\n",
       "       ['FT', 'FT', 'FT'],\n",
       "       ['FT', 'NFT', 'NFT']], dtype='<U3')"
      ]
     },
     "execution_count": 44,
     "metadata": {},
     "output_type": "execute_result"
    }
   ],
   "source": [
    "food_truck = np.random.choice(['FT','NFT'], size = (10_000, 3), p = [.70,.30])\n",
    "food_truck"
   ]
  },
  {
   "cell_type": "markdown",
   "metadata": {},
   "source": [
    "- Step 2: Convert np array to pd datafram due to complex row-wise aggregation"
   ]
  },
  {
   "cell_type": "code",
   "execution_count": 45,
   "metadata": {},
   "outputs": [
    {
     "data": {
      "text/html": [
       "<div>\n",
       "<style scoped>\n",
       "    .dataframe tbody tr th:only-of-type {\n",
       "        vertical-align: middle;\n",
       "    }\n",
       "\n",
       "    .dataframe tbody tr th {\n",
       "        vertical-align: top;\n",
       "    }\n",
       "\n",
       "    .dataframe thead th {\n",
       "        text-align: right;\n",
       "    }\n",
       "</style>\n",
       "<table border=\"1\" class=\"dataframe\">\n",
       "  <thead>\n",
       "    <tr style=\"text-align: right;\">\n",
       "      <th></th>\n",
       "      <th>0</th>\n",
       "      <th>1</th>\n",
       "      <th>2</th>\n",
       "    </tr>\n",
       "  </thead>\n",
       "  <tbody>\n",
       "    <tr>\n",
       "      <td>0</td>\n",
       "      <td>FT</td>\n",
       "      <td>FT</td>\n",
       "      <td>NFT</td>\n",
       "    </tr>\n",
       "    <tr>\n",
       "      <td>1</td>\n",
       "      <td>NFT</td>\n",
       "      <td>NFT</td>\n",
       "      <td>FT</td>\n",
       "    </tr>\n",
       "    <tr>\n",
       "      <td>2</td>\n",
       "      <td>FT</td>\n",
       "      <td>NFT</td>\n",
       "      <td>FT</td>\n",
       "    </tr>\n",
       "    <tr>\n",
       "      <td>3</td>\n",
       "      <td>NFT</td>\n",
       "      <td>NFT</td>\n",
       "      <td>FT</td>\n",
       "    </tr>\n",
       "    <tr>\n",
       "      <td>4</td>\n",
       "      <td>FT</td>\n",
       "      <td>NFT</td>\n",
       "      <td>FT</td>\n",
       "    </tr>\n",
       "    <tr>\n",
       "      <td>...</td>\n",
       "      <td>...</td>\n",
       "      <td>...</td>\n",
       "      <td>...</td>\n",
       "    </tr>\n",
       "    <tr>\n",
       "      <td>9995</td>\n",
       "      <td>FT</td>\n",
       "      <td>NFT</td>\n",
       "      <td>NFT</td>\n",
       "    </tr>\n",
       "    <tr>\n",
       "      <td>9996</td>\n",
       "      <td>FT</td>\n",
       "      <td>NFT</td>\n",
       "      <td>FT</td>\n",
       "    </tr>\n",
       "    <tr>\n",
       "      <td>9997</td>\n",
       "      <td>NFT</td>\n",
       "      <td>FT</td>\n",
       "      <td>NFT</td>\n",
       "    </tr>\n",
       "    <tr>\n",
       "      <td>9998</td>\n",
       "      <td>FT</td>\n",
       "      <td>FT</td>\n",
       "      <td>FT</td>\n",
       "    </tr>\n",
       "    <tr>\n",
       "      <td>9999</td>\n",
       "      <td>FT</td>\n",
       "      <td>NFT</td>\n",
       "      <td>NFT</td>\n",
       "    </tr>\n",
       "  </tbody>\n",
       "</table>\n",
       "<p>10000 rows × 3 columns</p>\n",
       "</div>"
      ],
      "text/plain": [
       "        0    1    2\n",
       "0      FT   FT  NFT\n",
       "1     NFT  NFT   FT\n",
       "2      FT  NFT   FT\n",
       "3     NFT  NFT   FT\n",
       "4      FT  NFT   FT\n",
       "...   ...  ...  ...\n",
       "9995   FT  NFT  NFT\n",
       "9996   FT  NFT   FT\n",
       "9997  NFT   FT  NFT\n",
       "9998   FT   FT   FT\n",
       "9999   FT  NFT  NFT\n",
       "\n",
       "[10000 rows x 3 columns]"
      ]
     },
     "execution_count": 45,
     "metadata": {},
     "output_type": "execute_result"
    }
   ],
   "source": [
    "foodtruckdf = pd.DataFrame(food_truck)\n",
    "foodtruckdf"
   ]
  },
  {
   "cell_type": "markdown",
   "metadata": {},
   "source": [
    "- Step 3: Write a function that tells if the food truck has not been seen in the last 3 days"
   ]
  },
  {
   "cell_type": "code",
   "execution_count": 46,
   "metadata": {},
   "outputs": [],
   "source": [
    "def has_not_been_seen_in_last_3_days(sighting: pd.Series) -> bool:\n",
    "    return (sighting == 'NFT').all() and (sighting == 'NFT').all() and (sighting == 'NFT').all()"
   ]
  },
  {
   "cell_type": "markdown",
   "metadata": {},
   "source": [
    "- Step 3: The food truck has not been seen in three days. Create a boolean column which show true or false if the first three days show 'No Food Truck\""
   ]
  },
  {
   "cell_type": "code",
   "execution_count": 47,
   "metadata": {},
   "outputs": [
    {
     "data": {
      "text/html": [
       "<div>\n",
       "<style scoped>\n",
       "    .dataframe tbody tr th:only-of-type {\n",
       "        vertical-align: middle;\n",
       "    }\n",
       "\n",
       "    .dataframe tbody tr th {\n",
       "        vertical-align: top;\n",
       "    }\n",
       "\n",
       "    .dataframe thead th {\n",
       "        text-align: right;\n",
       "    }\n",
       "</style>\n",
       "<table border=\"1\" class=\"dataframe\">\n",
       "  <thead>\n",
       "    <tr style=\"text-align: right;\">\n",
       "      <th></th>\n",
       "      <th>0</th>\n",
       "      <th>1</th>\n",
       "      <th>2</th>\n",
       "      <th>Not in last 3 days</th>\n",
       "    </tr>\n",
       "  </thead>\n",
       "  <tbody>\n",
       "    <tr>\n",
       "      <td>0</td>\n",
       "      <td>FT</td>\n",
       "      <td>FT</td>\n",
       "      <td>NFT</td>\n",
       "      <td>False</td>\n",
       "    </tr>\n",
       "    <tr>\n",
       "      <td>1</td>\n",
       "      <td>NFT</td>\n",
       "      <td>NFT</td>\n",
       "      <td>FT</td>\n",
       "      <td>False</td>\n",
       "    </tr>\n",
       "    <tr>\n",
       "      <td>2</td>\n",
       "      <td>FT</td>\n",
       "      <td>NFT</td>\n",
       "      <td>FT</td>\n",
       "      <td>False</td>\n",
       "    </tr>\n",
       "    <tr>\n",
       "      <td>3</td>\n",
       "      <td>NFT</td>\n",
       "      <td>NFT</td>\n",
       "      <td>FT</td>\n",
       "      <td>False</td>\n",
       "    </tr>\n",
       "    <tr>\n",
       "      <td>4</td>\n",
       "      <td>FT</td>\n",
       "      <td>NFT</td>\n",
       "      <td>FT</td>\n",
       "      <td>False</td>\n",
       "    </tr>\n",
       "    <tr>\n",
       "      <td>...</td>\n",
       "      <td>...</td>\n",
       "      <td>...</td>\n",
       "      <td>...</td>\n",
       "      <td>...</td>\n",
       "    </tr>\n",
       "    <tr>\n",
       "      <td>9995</td>\n",
       "      <td>FT</td>\n",
       "      <td>NFT</td>\n",
       "      <td>NFT</td>\n",
       "      <td>False</td>\n",
       "    </tr>\n",
       "    <tr>\n",
       "      <td>9996</td>\n",
       "      <td>FT</td>\n",
       "      <td>NFT</td>\n",
       "      <td>FT</td>\n",
       "      <td>False</td>\n",
       "    </tr>\n",
       "    <tr>\n",
       "      <td>9997</td>\n",
       "      <td>NFT</td>\n",
       "      <td>FT</td>\n",
       "      <td>NFT</td>\n",
       "      <td>False</td>\n",
       "    </tr>\n",
       "    <tr>\n",
       "      <td>9998</td>\n",
       "      <td>FT</td>\n",
       "      <td>FT</td>\n",
       "      <td>FT</td>\n",
       "      <td>False</td>\n",
       "    </tr>\n",
       "    <tr>\n",
       "      <td>9999</td>\n",
       "      <td>FT</td>\n",
       "      <td>NFT</td>\n",
       "      <td>NFT</td>\n",
       "      <td>False</td>\n",
       "    </tr>\n",
       "  </tbody>\n",
       "</table>\n",
       "<p>10000 rows × 4 columns</p>\n",
       "</div>"
      ],
      "text/plain": [
       "        0    1    2  Not in last 3 days\n",
       "0      FT   FT  NFT               False\n",
       "1     NFT  NFT   FT               False\n",
       "2      FT  NFT   FT               False\n",
       "3     NFT  NFT   FT               False\n",
       "4      FT  NFT   FT               False\n",
       "...   ...  ...  ...                 ...\n",
       "9995   FT  NFT  NFT               False\n",
       "9996   FT  NFT   FT               False\n",
       "9997  NFT   FT  NFT               False\n",
       "9998   FT   FT   FT               False\n",
       "9999   FT  NFT  NFT               False\n",
       "\n",
       "[10000 rows x 4 columns]"
      ]
     },
     "execution_count": 47,
     "metadata": {},
     "output_type": "execute_result"
    }
   ],
   "source": [
    "foodtruckdf['Not in last 3 days'] = foodtruckdf.apply(has_not_been_seen_in_last_3_days, axis = 1)\n",
    "foodtruckdf"
   ]
  },
  {
   "cell_type": "markdown",
   "metadata": {},
   "source": [
    "- Step 4: To answer the question \"How unlikely?\" use .mean()"
   ]
  },
  {
   "cell_type": "code",
   "execution_count": 48,
   "metadata": {},
   "outputs": [],
   "source": [
    "how_unlikely = foodtruckdf['Not in last 3 days'].mean()"
   ]
  },
  {
   "cell_type": "code",
   "execution_count": 49,
   "metadata": {},
   "outputs": [
    {
     "data": {
      "text/plain": [
       "0.0276"
      ]
     },
     "execution_count": 49,
     "metadata": {},
     "output_type": "execute_result"
    }
   ],
   "source": [
    "how_unlikely"
   ]
  },
  {
   "cell_type": "markdown",
   "metadata": {},
   "source": [
    "### 8. If 23 people are in the same room, what are the odds that two of them share a birthday? What if it's 20 people? 40?"
   ]
  },
  {
   "cell_type": "markdown",
   "metadata": {},
   "source": [
    "- Represent your data\n",
    "- Make a matrix\n",
    "- Aggregate row-wise\n",
    "- Aggregate of aggregate"
   ]
  },
  {
   "cell_type": "markdown",
   "metadata": {},
   "source": [
    "- Step 1: Represent data in np array with np.random.choice"
   ]
  },
  {
   "cell_type": "code",
   "execution_count": 103,
   "metadata": {},
   "outputs": [],
   "source": [
    "birthdays = np.random.randint(1,366, (10000, 23))"
   ]
  },
  {
   "cell_type": "code",
   "execution_count": 104,
   "metadata": {},
   "outputs": [],
   "source": [
    "birthdaysdf = pd.DataFrame(birthdays)"
   ]
  },
  {
   "cell_type": "code",
   "execution_count": 108,
   "metadata": {},
   "outputs": [
    {
     "data": {
      "text/plain": [
       "0.5112"
      ]
     },
     "execution_count": 108,
     "metadata": {},
     "output_type": "execute_result"
    }
   ],
   "source": [
    "(birthdaysdf.nunique(axis=1) <23).mean()"
   ]
  },
  {
   "cell_type": "code",
   "execution_count": null,
   "metadata": {},
   "outputs": [],
   "source": []
  }
 ],
 "metadata": {
  "kernelspec": {
   "display_name": "Python 3",
   "language": "python",
   "name": "python3"
  },
  "language_info": {
   "codemirror_mode": {
    "name": "ipython",
    "version": 3
   },
   "file_extension": ".py",
   "mimetype": "text/x-python",
   "name": "python",
   "nbconvert_exporter": "python",
   "pygments_lexer": "ipython3",
   "version": "3.7.4"
  }
 },
 "nbformat": 4,
 "nbformat_minor": 2
}
