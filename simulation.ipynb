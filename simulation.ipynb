{
 "cells": [
  {
   "cell_type": "code",
   "execution_count": 1,
   "metadata": {},
   "outputs": [],
   "source": [
    "%matplotlib inline\n",
    "import numpy as np\n",
    "import pandas as pd\n",
    "flips = np.random.choice(['Heads', 'Tails'], size =5)\n"
   ]
  },
  {
   "cell_type": "code",
   "execution_count": 2,
   "metadata": {},
   "outputs": [
    {
     "data": {
      "text/plain": [
       "array([False, False, False, False, False])"
      ]
     },
     "execution_count": 2,
     "metadata": {},
     "output_type": "execute_result"
    }
   ],
   "source": [
    "flips == 'Heads'"
   ]
  },
  {
   "cell_type": "code",
   "execution_count": 3,
   "metadata": {},
   "outputs": [
    {
     "data": {
      "text/plain": [
       "0.0"
      ]
     },
     "execution_count": 3,
     "metadata": {},
     "output_type": "execute_result"
    }
   ],
   "source": [
    "(flips == 'Heads').mean()"
   ]
  },
  {
   "cell_type": "code",
   "execution_count": 4,
   "metadata": {},
   "outputs": [],
   "source": [
    "#### as we increase the numer of trials, our acutal probability approaches the theoretical probability"
   ]
  },
  {
   "cell_type": "code",
   "execution_count": 5,
   "metadata": {},
   "outputs": [],
   "source": [
    "flips = np.random.choice(['Heads', 'Tails'], size =100000)"
   ]
  },
  {
   "cell_type": "code",
   "execution_count": 6,
   "metadata": {},
   "outputs": [
    {
     "data": {
      "text/plain": [
       "0.49897"
      ]
     },
     "execution_count": 6,
     "metadata": {},
     "output_type": "execute_result"
    }
   ],
   "source": [
    "(flips == 'Heads').mean()"
   ]
  },
  {
   "cell_type": "markdown",
   "metadata": {},
   "source": [
    "### 1. How likely is it that you roll doubles when rolling two dice?"
   ]
  },
  {
   "cell_type": "markdown",
   "metadata": {},
   "source": [
    "1. Represent your data\n",
    "2. Make a matrix\n",
    "3. Aggregate row-wise"
   ]
  },
  {
   "cell_type": "code",
   "execution_count": 7,
   "metadata": {},
   "outputs": [
    {
     "data": {
      "text/plain": [
       "array([[5, 6],\n",
       "       [2, 2],\n",
       "       [6, 4],\n",
       "       ...,\n",
       "       [4, 4],\n",
       "       [5, 3],\n",
       "       [2, 3]])"
      ]
     },
     "execution_count": 7,
     "metadata": {},
     "output_type": "execute_result"
    }
   ],
   "source": [
    "roll_results = np.random.choice([1,2,3,4,5,6], size=(10_000 ,2))\n",
    "roll_results"
   ]
  },
  {
   "cell_type": "markdown",
   "metadata": {},
   "source": [
    "- Because the row-wise aggregate is more complicated than an simple sum, turn the np array into a pandas dataframe"
   ]
  },
  {
   "cell_type": "code",
   "execution_count": 8,
   "metadata": {},
   "outputs": [
    {
     "data": {
      "text/html": [
       "<div>\n",
       "<style scoped>\n",
       "    .dataframe tbody tr th:only-of-type {\n",
       "        vertical-align: middle;\n",
       "    }\n",
       "\n",
       "    .dataframe tbody tr th {\n",
       "        vertical-align: top;\n",
       "    }\n",
       "\n",
       "    .dataframe thead th {\n",
       "        text-align: right;\n",
       "    }\n",
       "</style>\n",
       "<table border=\"1\" class=\"dataframe\">\n",
       "  <thead>\n",
       "    <tr style=\"text-align: right;\">\n",
       "      <th></th>\n",
       "      <th>0</th>\n",
       "      <th>1</th>\n",
       "    </tr>\n",
       "  </thead>\n",
       "  <tbody>\n",
       "    <tr>\n",
       "      <td>0</td>\n",
       "      <td>5</td>\n",
       "      <td>6</td>\n",
       "    </tr>\n",
       "    <tr>\n",
       "      <td>1</td>\n",
       "      <td>2</td>\n",
       "      <td>2</td>\n",
       "    </tr>\n",
       "    <tr>\n",
       "      <td>2</td>\n",
       "      <td>6</td>\n",
       "      <td>4</td>\n",
       "    </tr>\n",
       "    <tr>\n",
       "      <td>3</td>\n",
       "      <td>6</td>\n",
       "      <td>3</td>\n",
       "    </tr>\n",
       "    <tr>\n",
       "      <td>4</td>\n",
       "      <td>5</td>\n",
       "      <td>4</td>\n",
       "    </tr>\n",
       "    <tr>\n",
       "      <td>...</td>\n",
       "      <td>...</td>\n",
       "      <td>...</td>\n",
       "    </tr>\n",
       "    <tr>\n",
       "      <td>9995</td>\n",
       "      <td>2</td>\n",
       "      <td>2</td>\n",
       "    </tr>\n",
       "    <tr>\n",
       "      <td>9996</td>\n",
       "      <td>1</td>\n",
       "      <td>4</td>\n",
       "    </tr>\n",
       "    <tr>\n",
       "      <td>9997</td>\n",
       "      <td>4</td>\n",
       "      <td>4</td>\n",
       "    </tr>\n",
       "    <tr>\n",
       "      <td>9998</td>\n",
       "      <td>5</td>\n",
       "      <td>3</td>\n",
       "    </tr>\n",
       "    <tr>\n",
       "      <td>9999</td>\n",
       "      <td>2</td>\n",
       "      <td>3</td>\n",
       "    </tr>\n",
       "  </tbody>\n",
       "</table>\n",
       "<p>10000 rows × 2 columns</p>\n",
       "</div>"
      ],
      "text/plain": [
       "      0  1\n",
       "0     5  6\n",
       "1     2  2\n",
       "2     6  4\n",
       "3     6  3\n",
       "4     5  4\n",
       "...  .. ..\n",
       "9995  2  2\n",
       "9996  1  4\n",
       "9997  4  4\n",
       "9998  5  3\n",
       "9999  2  3\n",
       "\n",
       "[10000 rows x 2 columns]"
      ]
     },
     "execution_count": 8,
     "metadata": {},
     "output_type": "execute_result"
    }
   ],
   "source": [
    "df = pd.DataFrame(roll_results)\n",
    "df"
   ]
  },
  {
   "cell_type": "markdown",
   "metadata": {},
   "source": [
    "- Now write a function that checks to see if each observation is a double (same number on each roll)\n",
    "- Then apply that to the whole dataframe one row at a time"
   ]
  },
  {
   "cell_type": "code",
   "execution_count": 9,
   "metadata": {},
   "outputs": [],
   "source": [
    "def are_doubles(one_observation: pd.Series) -> bool:\n",
    "    return (one_observation == 1).all() or (one_observation == 2).all() or (one_observation == 3).all() or (one_observation == 4).all() or (one_observation == 5).all() or (one_observation == 6).all()"
   ]
  },
  {
   "cell_type": "code",
   "execution_count": 10,
   "metadata": {},
   "outputs": [
    {
     "data": {
      "text/plain": [
       "0       False\n",
       "1        True\n",
       "2       False\n",
       "3       False\n",
       "4       False\n",
       "        ...  \n",
       "9995     True\n",
       "9996    False\n",
       "9997     True\n",
       "9998    False\n",
       "9999    False\n",
       "Length: 10000, dtype: bool"
      ]
     },
     "execution_count": 10,
     "metadata": {},
     "output_type": "execute_result"
    }
   ],
   "source": [
    "df.apply(are_doubles , axis = 1)"
   ]
  },
  {
   "cell_type": "markdown",
   "metadata": {},
   "source": [
    "- To answer the question \"How likely?\" use the .mean() function to get a percent. This represents the probablitily that any of these rolls are doubles of any kind"
   ]
  },
  {
   "cell_type": "code",
   "execution_count": 11,
   "metadata": {},
   "outputs": [
    {
     "data": {
      "text/plain": [
       "0.1679"
      ]
     },
     "execution_count": 11,
     "metadata": {},
     "output_type": "execute_result"
    }
   ],
   "source": [
    "df.apply(are_doubles , axis = 1).mean()"
   ]
  },
  {
   "cell_type": "markdown",
   "metadata": {},
   "source": [
    "### 2. If you flip 8 coins, what is the probability of getting exactly 3 heads? What is the probability of getting more than 3 heads?"
   ]
  },
  {
   "cell_type": "markdown",
   "metadata": {},
   "source": [
    "- Represent your data\n",
    "- Make a matrix\n",
    "- Aggregate row-wise\n",
    "- Aggregate of aggregate"
   ]
  },
  {
   "cell_type": "markdown",
   "metadata": {},
   "source": [
    "- Step 1: Use an np array and random choice to represent the results of flipping 8 coins 10,000 times"
   ]
  },
  {
   "cell_type": "code",
   "execution_count": 12,
   "metadata": {},
   "outputs": [
    {
     "data": {
      "text/plain": [
       "array([['Tails', 'Heads', 'Tails', ..., 'Tails', 'Heads', 'Tails'],\n",
       "       ['Tails', 'Tails', 'Tails', ..., 'Heads', 'Tails', 'Tails'],\n",
       "       ['Tails', 'Tails', 'Heads', ..., 'Heads', 'Heads', 'Tails'],\n",
       "       ...,\n",
       "       ['Heads', 'Heads', 'Heads', ..., 'Heads', 'Heads', 'Tails'],\n",
       "       ['Tails', 'Heads', 'Tails', ..., 'Heads', 'Heads', 'Heads'],\n",
       "       ['Heads', 'Tails', 'Heads', ..., 'Tails', 'Tails', 'Heads']],\n",
       "      dtype='<U5')"
      ]
     },
     "execution_count": 12,
     "metadata": {},
     "output_type": "execute_result"
    }
   ],
   "source": [
    "flip_results = np.random.choice([\"Heads\",\"Tails\"], size = (10_000, 8))\n",
    "flip_results"
   ]
  },
  {
   "cell_type": "markdown",
   "metadata": {},
   "source": [
    "- Step 2: Turn results into boolean values where 'Heads' is True and 'Tails' is False"
   ]
  },
  {
   "cell_type": "code",
   "execution_count": 13,
   "metadata": {},
   "outputs": [
    {
     "data": {
      "text/plain": [
       "array([[False,  True, False, ..., False,  True, False],\n",
       "       [False, False, False, ...,  True, False, False],\n",
       "       [False, False,  True, ...,  True,  True, False],\n",
       "       ...,\n",
       "       [ True,  True,  True, ...,  True,  True, False],\n",
       "       [False,  True, False, ...,  True,  True,  True],\n",
       "       [ True, False,  True, ..., False, False,  True]])"
      ]
     },
     "execution_count": 13,
     "metadata": {},
     "output_type": "execute_result"
    }
   ],
   "source": [
    "is_heads = (flip_results == 'Heads')\n",
    "is_heads"
   ]
  },
  {
   "cell_type": "markdown",
   "metadata": {},
   "source": [
    "- Step 3: Sum all the rows"
   ]
  },
  {
   "cell_type": "code",
   "execution_count": 14,
   "metadata": {},
   "outputs": [
    {
     "data": {
      "text/plain": [
       "array([3, 2, 3, ..., 6, 5, 4])"
      ]
     },
     "execution_count": 14,
     "metadata": {},
     "output_type": "execute_result"
    }
   ],
   "source": [
    "number_of_heads_in_each_observation = is_heads.sum(axis=1)\n",
    "number_of_heads_in_each_observation"
   ]
  },
  {
   "cell_type": "markdown",
   "metadata": {},
   "source": [
    "- Step 4: Count all the instances that the total equals 3. This represents only 3 heads in each observation or row"
   ]
  },
  {
   "cell_type": "code",
   "execution_count": 15,
   "metadata": {},
   "outputs": [
    {
     "data": {
      "text/plain": [
       "array([ True, False,  True, ..., False, False, False])"
      ]
     },
     "execution_count": 15,
     "metadata": {},
     "output_type": "execute_result"
    }
   ],
   "source": [
    "only_3_heads = (number_of_heads_in_each_observation == 3)\n",
    "only_3_heads"
   ]
  },
  {
   "cell_type": "markdown",
   "metadata": {},
   "source": [
    "- Step 4: To answer the question \"What is the probablitily?\" use the .mean() function."
   ]
  },
  {
   "cell_type": "code",
   "execution_count": 16,
   "metadata": {},
   "outputs": [
    {
     "data": {
      "text/plain": [
       "0.2186"
      ]
     },
     "execution_count": 16,
     "metadata": {},
     "output_type": "execute_result"
    }
   ],
   "source": [
    "only_3_heads.mean()"
   ]
  },
  {
   "cell_type": "markdown",
   "metadata": {},
   "source": [
    "### 3. There are approximitely 3 web development cohorts for every 1 data science cohort at Codeup. Assuming that Codeup randomly selects an alumni to put on a billboard, what are the odds that the two billboards I drive past both have data science students on them?"
   ]
  },
  {
   "cell_type": "markdown",
   "metadata": {},
   "source": [
    "- Represent your data\n",
    "- Make a matrix\n",
    "- Aggregate row-wise\n",
    "- Aggregate of aggregate"
   ]
  },
  {
   "cell_type": "markdown",
   "metadata": {},
   "source": [
    "- Step 1: Represent the data in an np array. The number of trials is two as this represents the two bilboards the person will drive past. There is a higher probability that the student chosen will be from the web development class, so include a probability aregument that represents this"
   ]
  },
  {
   "cell_type": "markdown",
   "metadata": {},
   "source": [
    "- There are 4 elements. Three of which are the same, one is different"
   ]
  },
  {
   "cell_type": "code",
   "execution_count": 17,
   "metadata": {},
   "outputs": [
    {
     "data": {
      "text/plain": [
       "array([['WD', 'WD'],\n",
       "       ['WD', 'WD'],\n",
       "       ['DS', 'WD'],\n",
       "       ...,\n",
       "       ['WD', 'WD'],\n",
       "       ['WD', 'WD'],\n",
       "       ['WD', 'DS']], dtype='<U2')"
      ]
     },
     "execution_count": 17,
     "metadata": {},
     "output_type": "execute_result"
    }
   ],
   "source": [
    "cohorts = np.random.choice([\"WD\",\"DS\"], size = (10_000, 2), p=[.75,.25])\n",
    "cohorts"
   ]
  },
  {
   "cell_type": "markdown",
   "metadata": {},
   "source": [
    "- Step 2: Because the row-wise aggregate is more complicated than an simple sum, turn the np array into a pandas dataframe"
   ]
  },
  {
   "cell_type": "code",
   "execution_count": 18,
   "metadata": {},
   "outputs": [
    {
     "data": {
      "text/html": [
       "<div>\n",
       "<style scoped>\n",
       "    .dataframe tbody tr th:only-of-type {\n",
       "        vertical-align: middle;\n",
       "    }\n",
       "\n",
       "    .dataframe tbody tr th {\n",
       "        vertical-align: top;\n",
       "    }\n",
       "\n",
       "    .dataframe thead th {\n",
       "        text-align: right;\n",
       "    }\n",
       "</style>\n",
       "<table border=\"1\" class=\"dataframe\">\n",
       "  <thead>\n",
       "    <tr style=\"text-align: right;\">\n",
       "      <th></th>\n",
       "      <th>0</th>\n",
       "      <th>1</th>\n",
       "    </tr>\n",
       "  </thead>\n",
       "  <tbody>\n",
       "    <tr>\n",
       "      <td>0</td>\n",
       "      <td>WD</td>\n",
       "      <td>WD</td>\n",
       "    </tr>\n",
       "    <tr>\n",
       "      <td>1</td>\n",
       "      <td>WD</td>\n",
       "      <td>WD</td>\n",
       "    </tr>\n",
       "    <tr>\n",
       "      <td>2</td>\n",
       "      <td>DS</td>\n",
       "      <td>WD</td>\n",
       "    </tr>\n",
       "    <tr>\n",
       "      <td>3</td>\n",
       "      <td>WD</td>\n",
       "      <td>WD</td>\n",
       "    </tr>\n",
       "    <tr>\n",
       "      <td>4</td>\n",
       "      <td>WD</td>\n",
       "      <td>DS</td>\n",
       "    </tr>\n",
       "    <tr>\n",
       "      <td>...</td>\n",
       "      <td>...</td>\n",
       "      <td>...</td>\n",
       "    </tr>\n",
       "    <tr>\n",
       "      <td>9995</td>\n",
       "      <td>WD</td>\n",
       "      <td>DS</td>\n",
       "    </tr>\n",
       "    <tr>\n",
       "      <td>9996</td>\n",
       "      <td>WD</td>\n",
       "      <td>WD</td>\n",
       "    </tr>\n",
       "    <tr>\n",
       "      <td>9997</td>\n",
       "      <td>WD</td>\n",
       "      <td>WD</td>\n",
       "    </tr>\n",
       "    <tr>\n",
       "      <td>9998</td>\n",
       "      <td>WD</td>\n",
       "      <td>WD</td>\n",
       "    </tr>\n",
       "    <tr>\n",
       "      <td>9999</td>\n",
       "      <td>WD</td>\n",
       "      <td>DS</td>\n",
       "    </tr>\n",
       "  </tbody>\n",
       "</table>\n",
       "<p>10000 rows × 2 columns</p>\n",
       "</div>"
      ],
      "text/plain": [
       "       0   1\n",
       "0     WD  WD\n",
       "1     WD  WD\n",
       "2     DS  WD\n",
       "3     WD  WD\n",
       "4     WD  DS\n",
       "...   ..  ..\n",
       "9995  WD  DS\n",
       "9996  WD  WD\n",
       "9997  WD  WD\n",
       "9998  WD  WD\n",
       "9999  WD  DS\n",
       "\n",
       "[10000 rows x 2 columns]"
      ]
     },
     "execution_count": 18,
     "metadata": {},
     "output_type": "execute_result"
    }
   ],
   "source": [
    "cohortsdf = pd.DataFrame(cohorts)\n",
    "cohortsdf"
   ]
  },
  {
   "cell_type": "markdown",
   "metadata": {},
   "source": [
    "- Step 3: Determine how many times both bilboards have a data science student by writing a function, then apply that function to the entire dataframe"
   ]
  },
  {
   "cell_type": "code",
   "execution_count": 19,
   "metadata": {},
   "outputs": [],
   "source": [
    "def are_both_data_science(one_row: pd.Series) -> bool:\n",
    "    return (one_row == 'DS').all()"
   ]
  },
  {
   "cell_type": "code",
   "execution_count": 20,
   "metadata": {},
   "outputs": [
    {
     "data": {
      "text/plain": [
       "0       False\n",
       "1       False\n",
       "2       False\n",
       "3       False\n",
       "4       False\n",
       "        ...  \n",
       "9995    False\n",
       "9996    False\n",
       "9997    False\n",
       "9998    False\n",
       "9999    False\n",
       "Length: 10000, dtype: bool"
      ]
     },
     "execution_count": 20,
     "metadata": {},
     "output_type": "execute_result"
    }
   ],
   "source": [
    "cohortsdf.apply(are_both_data_science, axis = 1)"
   ]
  },
  {
   "cell_type": "markdown",
   "metadata": {},
   "source": [
    "- Step 4: Now you have a dataframe that is showing whether or not each observation or row has both data science students. To answer the question \"What are the odds?\" use .mean()"
   ]
  },
  {
   "cell_type": "code",
   "execution_count": 21,
   "metadata": {},
   "outputs": [],
   "source": [
    "what_are_the_odds = cohortsdf.apply(are_both_data_science, axis = 1).mean()"
   ]
  },
  {
   "cell_type": "code",
   "execution_count": 22,
   "metadata": {},
   "outputs": [
    {
     "data": {
      "text/plain": [
       "0.0593"
      ]
     },
     "execution_count": 22,
     "metadata": {},
     "output_type": "execute_result"
    }
   ],
   "source": [
    "what_are_the_odds"
   ]
  },
  {
   "cell_type": "markdown",
   "metadata": {},
   "source": [
    "### 4. Codeup students buy, on average, 3 poptart packages (+- 1.5) a day from the snack vending machine. If on monday the machine is restocked with 17 poptart packages, how likely is it that I will be able to buy some poptarts on Friday afternoon?"
   ]
  },
  {
   "cell_type": "markdown",
   "metadata": {},
   "source": [
    "- Represent your data\n",
    "- Make a matrix\n",
    "- Aggregate row-wise\n",
    "- Aggregate of aggregate"
   ]
  },
  {
   "cell_type": "markdown",
   "metadata": {},
   "source": [
    "- Step 1: Represent the data that shows average of 3 poptart purchases with standard deviation of 1.5. Use np.random.normal"
   ]
  },
  {
   "cell_type": "code",
   "execution_count": 28,
   "metadata": {},
   "outputs": [
    {
     "data": {
      "text/plain": [
       "array([[6., 3., 3., 5., 1.],\n",
       "       [3., 3., 3., 6., 6.],\n",
       "       [5., 2., 2., 3., 4.],\n",
       "       ...,\n",
       "       [1., 2., 2., 3., 3.],\n",
       "       [2., 4., 3., 0., 3.],\n",
       "       [5., 4., 1., 4., 1.]])"
      ]
     },
     "execution_count": 28,
     "metadata": {},
     "output_type": "execute_result"
    }
   ],
   "source": [
    "poptart_purchases = np.random.normal(3,1.5, size = (10_000, 5))\n",
    "rounded_poptart_purchases = poptart_purchases.round()\n",
    "rounded_poptart_purchases"
   ]
  },
  {
   "cell_type": "markdown",
   "metadata": {},
   "source": [
    "- Step 2: There must be at least 1 poptart left at the end of the day on Friday in order to make a purchase. Sum the days of the week and compare it to 16"
   ]
  },
  {
   "cell_type": "code",
   "execution_count": 24,
   "metadata": {},
   "outputs": [
    {
     "data": {
      "text/plain": [
       "array([10.,  8., 20., ..., 14.,  9., 17.])"
      ]
     },
     "execution_count": 24,
     "metadata": {},
     "output_type": "execute_result"
    }
   ],
   "source": [
    "rounded_poptart_purchases_sum = rounded_poptart_purchases.sum(axis=1)\n",
    "rounded_poptart_purchases_sum"
   ]
  },
  {
   "cell_type": "code",
   "execution_count": 30,
   "metadata": {},
   "outputs": [
    {
     "data": {
      "text/plain": [
       "array([ True,  True, False, ...,  True,  True, False])"
      ]
     },
     "execution_count": 30,
     "metadata": {},
     "output_type": "execute_result"
    }
   ],
   "source": [
    "at_least_one_poptart_left_on_Friday = (rounded_poptart_purchases_sum <= 16)\n",
    "at_least_one_poptart_left_on_Friday"
   ]
  },
  {
   "cell_type": "markdown",
   "metadata": {},
   "source": [
    "- Step: 3 To answer the question \"How likely?\" use .mean()"
   ]
  },
  {
   "cell_type": "code",
   "execution_count": 32,
   "metadata": {},
   "outputs": [
    {
     "data": {
      "text/plain": [
       "0.6821"
      ]
     },
     "execution_count": 32,
     "metadata": {},
     "output_type": "execute_result"
    }
   ],
   "source": [
    "at_least_one_poptart_left.mean()"
   ]
  },
  {
   "cell_type": "markdown",
   "metadata": {},
   "source": [
    "### 5. Compare Heights\n",
    "### Men have an average height of 178 cm and standard deviation of 8cm.\n",
    "### Women have a mean of 170, sd = 6cm.\n",
    "### If a man and woman are chosen at random, P(woman taller than man)?"
   ]
  },
  {
   "cell_type": "markdown",
   "metadata": {},
   "source": [
    "- Represent your data\n",
    "- Make a matrix\n",
    "- Aggregate row-wise\n",
    "- Aggregate of aggregate"
   ]
  },
  {
   "cell_type": "markdown",
   "metadata": {},
   "source": [
    "- Step 1: Represent data in np array with np.random.normal"
   ]
  },
  {
   "cell_type": "code",
   "execution_count": 34,
   "metadata": {},
   "outputs": [
    {
     "data": {
      "text/plain": [
       "array([175.05423902, 168.52316146, 165.90952254, ..., 183.94147867,\n",
       "       176.78193995, 170.43059448])"
      ]
     },
     "execution_count": 34,
     "metadata": {},
     "output_type": "execute_result"
    }
   ],
   "source": [
    "men_height = np.random.normal(178, 8, size = 10_000)\n",
    "men_height"
   ]
  },
  {
   "cell_type": "code",
   "execution_count": 37,
   "metadata": {},
   "outputs": [
    {
     "data": {
      "text/plain": [
       "array([168.63460469, 172.65180747, 165.73479903, ..., 165.87423234,\n",
       "       166.250262  , 178.29445202])"
      ]
     },
     "execution_count": 37,
     "metadata": {},
     "output_type": "execute_result"
    }
   ],
   "source": [
    "women_height = np.random.normal(170, 6, size = 10_000)\n",
    "women_height"
   ]
  },
  {
   "cell_type": "markdown",
   "metadata": {},
   "source": [
    "- Step 2: Create dataframe with men and women heights"
   ]
  },
  {
   "cell_type": "code",
   "execution_count": 42,
   "metadata": {},
   "outputs": [],
   "source": [
    "height = pd.DataFrame({'Average Mens Height': men_height, 'Average Womens Height': women_height})"
   ]
  },
  {
   "cell_type": "code",
   "execution_count": 43,
   "metadata": {},
   "outputs": [
    {
     "data": {
      "text/html": [
       "<div>\n",
       "<style scoped>\n",
       "    .dataframe tbody tr th:only-of-type {\n",
       "        vertical-align: middle;\n",
       "    }\n",
       "\n",
       "    .dataframe tbody tr th {\n",
       "        vertical-align: top;\n",
       "    }\n",
       "\n",
       "    .dataframe thead th {\n",
       "        text-align: right;\n",
       "    }\n",
       "</style>\n",
       "<table border=\"1\" class=\"dataframe\">\n",
       "  <thead>\n",
       "    <tr style=\"text-align: right;\">\n",
       "      <th></th>\n",
       "      <th>Average Mens Height</th>\n",
       "      <th>Average Womens Height</th>\n",
       "    </tr>\n",
       "  </thead>\n",
       "  <tbody>\n",
       "    <tr>\n",
       "      <td>0</td>\n",
       "      <td>175.054239</td>\n",
       "      <td>168.634605</td>\n",
       "    </tr>\n",
       "    <tr>\n",
       "      <td>1</td>\n",
       "      <td>168.523161</td>\n",
       "      <td>172.651807</td>\n",
       "    </tr>\n",
       "    <tr>\n",
       "      <td>2</td>\n",
       "      <td>165.909523</td>\n",
       "      <td>165.734799</td>\n",
       "    </tr>\n",
       "    <tr>\n",
       "      <td>3</td>\n",
       "      <td>174.957031</td>\n",
       "      <td>173.297431</td>\n",
       "    </tr>\n",
       "    <tr>\n",
       "      <td>4</td>\n",
       "      <td>171.466092</td>\n",
       "      <td>178.326102</td>\n",
       "    </tr>\n",
       "    <tr>\n",
       "      <td>...</td>\n",
       "      <td>...</td>\n",
       "      <td>...</td>\n",
       "    </tr>\n",
       "    <tr>\n",
       "      <td>9995</td>\n",
       "      <td>179.629859</td>\n",
       "      <td>173.860995</td>\n",
       "    </tr>\n",
       "    <tr>\n",
       "      <td>9996</td>\n",
       "      <td>190.199396</td>\n",
       "      <td>172.704282</td>\n",
       "    </tr>\n",
       "    <tr>\n",
       "      <td>9997</td>\n",
       "      <td>183.941479</td>\n",
       "      <td>165.874232</td>\n",
       "    </tr>\n",
       "    <tr>\n",
       "      <td>9998</td>\n",
       "      <td>176.781940</td>\n",
       "      <td>166.250262</td>\n",
       "    </tr>\n",
       "    <tr>\n",
       "      <td>9999</td>\n",
       "      <td>170.430594</td>\n",
       "      <td>178.294452</td>\n",
       "    </tr>\n",
       "  </tbody>\n",
       "</table>\n",
       "<p>10000 rows × 2 columns</p>\n",
       "</div>"
      ],
      "text/plain": [
       "      Average Mens Height  Average Womens Height\n",
       "0              175.054239             168.634605\n",
       "1              168.523161             172.651807\n",
       "2              165.909523             165.734799\n",
       "3              174.957031             173.297431\n",
       "4              171.466092             178.326102\n",
       "...                   ...                    ...\n",
       "9995           179.629859             173.860995\n",
       "9996           190.199396             172.704282\n",
       "9997           183.941479             165.874232\n",
       "9998           176.781940             166.250262\n",
       "9999           170.430594             178.294452\n",
       "\n",
       "[10000 rows x 2 columns]"
      ]
     },
     "execution_count": 43,
     "metadata": {},
     "output_type": "execute_result"
    }
   ],
   "source": [
    "height"
   ]
  },
  {
   "cell_type": "markdown",
   "metadata": {},
   "source": [
    "- Step 3: Compare if average height of women is more than average height of man. This will create a boolean value of the instances where this is True or False"
   ]
  },
  {
   "cell_type": "code",
   "execution_count": 49,
   "metadata": {},
   "outputs": [],
   "source": [
    "height['Woman is taller than Man'] = (height['Average Womens Height'] > height['Average Mens Height'])"
   ]
  },
  {
   "cell_type": "code",
   "execution_count": 50,
   "metadata": {},
   "outputs": [
    {
     "data": {
      "text/html": [
       "<div>\n",
       "<style scoped>\n",
       "    .dataframe tbody tr th:only-of-type {\n",
       "        vertical-align: middle;\n",
       "    }\n",
       "\n",
       "    .dataframe tbody tr th {\n",
       "        vertical-align: top;\n",
       "    }\n",
       "\n",
       "    .dataframe thead th {\n",
       "        text-align: right;\n",
       "    }\n",
       "</style>\n",
       "<table border=\"1\" class=\"dataframe\">\n",
       "  <thead>\n",
       "    <tr style=\"text-align: right;\">\n",
       "      <th></th>\n",
       "      <th>Average Mens Height</th>\n",
       "      <th>Average Womens Height</th>\n",
       "      <th>Woman is taller than Man</th>\n",
       "    </tr>\n",
       "  </thead>\n",
       "  <tbody>\n",
       "    <tr>\n",
       "      <td>0</td>\n",
       "      <td>175.054239</td>\n",
       "      <td>168.634605</td>\n",
       "      <td>False</td>\n",
       "    </tr>\n",
       "    <tr>\n",
       "      <td>1</td>\n",
       "      <td>168.523161</td>\n",
       "      <td>172.651807</td>\n",
       "      <td>True</td>\n",
       "    </tr>\n",
       "    <tr>\n",
       "      <td>2</td>\n",
       "      <td>165.909523</td>\n",
       "      <td>165.734799</td>\n",
       "      <td>False</td>\n",
       "    </tr>\n",
       "    <tr>\n",
       "      <td>3</td>\n",
       "      <td>174.957031</td>\n",
       "      <td>173.297431</td>\n",
       "      <td>False</td>\n",
       "    </tr>\n",
       "    <tr>\n",
       "      <td>4</td>\n",
       "      <td>171.466092</td>\n",
       "      <td>178.326102</td>\n",
       "      <td>True</td>\n",
       "    </tr>\n",
       "    <tr>\n",
       "      <td>...</td>\n",
       "      <td>...</td>\n",
       "      <td>...</td>\n",
       "      <td>...</td>\n",
       "    </tr>\n",
       "    <tr>\n",
       "      <td>9995</td>\n",
       "      <td>179.629859</td>\n",
       "      <td>173.860995</td>\n",
       "      <td>False</td>\n",
       "    </tr>\n",
       "    <tr>\n",
       "      <td>9996</td>\n",
       "      <td>190.199396</td>\n",
       "      <td>172.704282</td>\n",
       "      <td>False</td>\n",
       "    </tr>\n",
       "    <tr>\n",
       "      <td>9997</td>\n",
       "      <td>183.941479</td>\n",
       "      <td>165.874232</td>\n",
       "      <td>False</td>\n",
       "    </tr>\n",
       "    <tr>\n",
       "      <td>9998</td>\n",
       "      <td>176.781940</td>\n",
       "      <td>166.250262</td>\n",
       "      <td>False</td>\n",
       "    </tr>\n",
       "    <tr>\n",
       "      <td>9999</td>\n",
       "      <td>170.430594</td>\n",
       "      <td>178.294452</td>\n",
       "      <td>True</td>\n",
       "    </tr>\n",
       "  </tbody>\n",
       "</table>\n",
       "<p>10000 rows × 3 columns</p>\n",
       "</div>"
      ],
      "text/plain": [
       "      Average Mens Height  Average Womens Height  Woman is taller than Man\n",
       "0              175.054239             168.634605                     False\n",
       "1              168.523161             172.651807                      True\n",
       "2              165.909523             165.734799                     False\n",
       "3              174.957031             173.297431                     False\n",
       "4              171.466092             178.326102                      True\n",
       "...                   ...                    ...                       ...\n",
       "9995           179.629859             173.860995                     False\n",
       "9996           190.199396             172.704282                     False\n",
       "9997           183.941479             165.874232                     False\n",
       "9998           176.781940             166.250262                     False\n",
       "9999           170.430594             178.294452                      True\n",
       "\n",
       "[10000 rows x 3 columns]"
      ]
     },
     "execution_count": 50,
     "metadata": {},
     "output_type": "execute_result"
    }
   ],
   "source": [
    "height"
   ]
  },
  {
   "cell_type": "code",
   "execution_count": 54,
   "metadata": {},
   "outputs": [
    {
     "data": {
      "text/plain": [
       "0.2069"
      ]
     },
     "execution_count": 54,
     "metadata": {},
     "output_type": "execute_result"
    }
   ],
   "source": [
    "probability_woman_is_taller_than_man= height['Woman is taller than Man'].mean()\n",
    "odds"
   ]
  },
  {
   "cell_type": "markdown",
   "metadata": {},
   "source": [
    "### 6.  When installing anaconda on a student's computer, there's a 1 in 250 chance that the download is corrupted and the installation fails. What are the odds that after having 50 students download anaconda, no one has an installation issue? 100 students?\n",
    "### What is the probability that we observe an installation issue within the first 150 students that download anaconda?"
   ]
  },
  {
   "cell_type": "markdown",
   "metadata": {},
   "source": [
    "- Represent your data\n",
    "- Make a matrix\n",
    "- Aggregate row-wise\n",
    "- Aggregate of aggregate"
   ]
  },
  {
   "cell_type": "markdown",
   "metadata": {},
   "source": [
    "- Step 1: Represent data in np array with np.random.choice"
   ]
  },
  {
   "cell_type": "code",
   "execution_count": 60,
   "metadata": {},
   "outputs": [
    {
     "data": {
      "text/plain": [
       "array([['not corrupted', 'not corrupted', 'not corrupted', ...,\n",
       "        'not corrupted', 'not corrupted', 'not corrupted'],\n",
       "       ['not corrupted', 'not corrupted', 'not corrupted', ...,\n",
       "        'not corrupted', 'not corrupted', 'not corrupted'],\n",
       "       ['not corrupted', 'not corrupted', 'not corrupted', ...,\n",
       "        'not corrupted', 'not corrupted', 'not corrupted'],\n",
       "       ...,\n",
       "       ['not corrupted', 'not corrupted', 'not corrupted', ...,\n",
       "        'not corrupted', 'not corrupted', 'not corrupted'],\n",
       "       ['not corrupted', 'not corrupted', 'not corrupted', ...,\n",
       "        'not corrupted', 'not corrupted', 'not corrupted'],\n",
       "       ['not corrupted', 'not corrupted', 'not corrupted', ...,\n",
       "        'not corrupted', 'not corrupted', 'not corrupted']], dtype='<U13')"
      ]
     },
     "execution_count": 60,
     "metadata": {},
     "output_type": "execute_result"
    }
   ],
   "source": [
    "install = np.random.choice(['corrupted','not corrupted'], size = (10_000 , 50), p=[.004, .996])\n",
    "install"
   ]
  },
  {
   "cell_type": "markdown",
   "metadata": {},
   "source": [
    "- Step 2: Because the row-wise aggregate is more complicated than an simple sum, turn the np array into a pandas dataframe"
   ]
  },
  {
   "cell_type": "code",
   "execution_count": 65,
   "metadata": {},
   "outputs": [
    {
     "data": {
      "text/html": [
       "<div>\n",
       "<style scoped>\n",
       "    .dataframe tbody tr th:only-of-type {\n",
       "        vertical-align: middle;\n",
       "    }\n",
       "\n",
       "    .dataframe tbody tr th {\n",
       "        vertical-align: top;\n",
       "    }\n",
       "\n",
       "    .dataframe thead th {\n",
       "        text-align: right;\n",
       "    }\n",
       "</style>\n",
       "<table border=\"1\" class=\"dataframe\">\n",
       "  <thead>\n",
       "    <tr style=\"text-align: right;\">\n",
       "      <th></th>\n",
       "      <th>0</th>\n",
       "      <th>1</th>\n",
       "      <th>2</th>\n",
       "      <th>3</th>\n",
       "      <th>4</th>\n",
       "      <th>5</th>\n",
       "      <th>6</th>\n",
       "      <th>7</th>\n",
       "      <th>8</th>\n",
       "      <th>9</th>\n",
       "      <th>...</th>\n",
       "      <th>40</th>\n",
       "      <th>41</th>\n",
       "      <th>42</th>\n",
       "      <th>43</th>\n",
       "      <th>44</th>\n",
       "      <th>45</th>\n",
       "      <th>46</th>\n",
       "      <th>47</th>\n",
       "      <th>48</th>\n",
       "      <th>49</th>\n",
       "    </tr>\n",
       "  </thead>\n",
       "  <tbody>\n",
       "    <tr>\n",
       "      <td>0</td>\n",
       "      <td>not corrupted</td>\n",
       "      <td>not corrupted</td>\n",
       "      <td>not corrupted</td>\n",
       "      <td>not corrupted</td>\n",
       "      <td>not corrupted</td>\n",
       "      <td>not corrupted</td>\n",
       "      <td>not corrupted</td>\n",
       "      <td>not corrupted</td>\n",
       "      <td>not corrupted</td>\n",
       "      <td>not corrupted</td>\n",
       "      <td>...</td>\n",
       "      <td>not corrupted</td>\n",
       "      <td>not corrupted</td>\n",
       "      <td>not corrupted</td>\n",
       "      <td>not corrupted</td>\n",
       "      <td>not corrupted</td>\n",
       "      <td>not corrupted</td>\n",
       "      <td>not corrupted</td>\n",
       "      <td>not corrupted</td>\n",
       "      <td>not corrupted</td>\n",
       "      <td>not corrupted</td>\n",
       "    </tr>\n",
       "    <tr>\n",
       "      <td>1</td>\n",
       "      <td>not corrupted</td>\n",
       "      <td>not corrupted</td>\n",
       "      <td>not corrupted</td>\n",
       "      <td>not corrupted</td>\n",
       "      <td>not corrupted</td>\n",
       "      <td>not corrupted</td>\n",
       "      <td>not corrupted</td>\n",
       "      <td>not corrupted</td>\n",
       "      <td>not corrupted</td>\n",
       "      <td>not corrupted</td>\n",
       "      <td>...</td>\n",
       "      <td>not corrupted</td>\n",
       "      <td>not corrupted</td>\n",
       "      <td>not corrupted</td>\n",
       "      <td>not corrupted</td>\n",
       "      <td>not corrupted</td>\n",
       "      <td>not corrupted</td>\n",
       "      <td>not corrupted</td>\n",
       "      <td>not corrupted</td>\n",
       "      <td>not corrupted</td>\n",
       "      <td>not corrupted</td>\n",
       "    </tr>\n",
       "    <tr>\n",
       "      <td>2</td>\n",
       "      <td>not corrupted</td>\n",
       "      <td>not corrupted</td>\n",
       "      <td>not corrupted</td>\n",
       "      <td>not corrupted</td>\n",
       "      <td>not corrupted</td>\n",
       "      <td>not corrupted</td>\n",
       "      <td>not corrupted</td>\n",
       "      <td>not corrupted</td>\n",
       "      <td>not corrupted</td>\n",
       "      <td>not corrupted</td>\n",
       "      <td>...</td>\n",
       "      <td>not corrupted</td>\n",
       "      <td>not corrupted</td>\n",
       "      <td>not corrupted</td>\n",
       "      <td>not corrupted</td>\n",
       "      <td>not corrupted</td>\n",
       "      <td>not corrupted</td>\n",
       "      <td>not corrupted</td>\n",
       "      <td>not corrupted</td>\n",
       "      <td>not corrupted</td>\n",
       "      <td>not corrupted</td>\n",
       "    </tr>\n",
       "    <tr>\n",
       "      <td>3</td>\n",
       "      <td>not corrupted</td>\n",
       "      <td>not corrupted</td>\n",
       "      <td>not corrupted</td>\n",
       "      <td>not corrupted</td>\n",
       "      <td>not corrupted</td>\n",
       "      <td>not corrupted</td>\n",
       "      <td>not corrupted</td>\n",
       "      <td>not corrupted</td>\n",
       "      <td>not corrupted</td>\n",
       "      <td>not corrupted</td>\n",
       "      <td>...</td>\n",
       "      <td>not corrupted</td>\n",
       "      <td>not corrupted</td>\n",
       "      <td>not corrupted</td>\n",
       "      <td>not corrupted</td>\n",
       "      <td>not corrupted</td>\n",
       "      <td>not corrupted</td>\n",
       "      <td>not corrupted</td>\n",
       "      <td>not corrupted</td>\n",
       "      <td>not corrupted</td>\n",
       "      <td>not corrupted</td>\n",
       "    </tr>\n",
       "    <tr>\n",
       "      <td>4</td>\n",
       "      <td>not corrupted</td>\n",
       "      <td>not corrupted</td>\n",
       "      <td>not corrupted</td>\n",
       "      <td>not corrupted</td>\n",
       "      <td>not corrupted</td>\n",
       "      <td>not corrupted</td>\n",
       "      <td>not corrupted</td>\n",
       "      <td>not corrupted</td>\n",
       "      <td>not corrupted</td>\n",
       "      <td>not corrupted</td>\n",
       "      <td>...</td>\n",
       "      <td>not corrupted</td>\n",
       "      <td>not corrupted</td>\n",
       "      <td>not corrupted</td>\n",
       "      <td>not corrupted</td>\n",
       "      <td>not corrupted</td>\n",
       "      <td>not corrupted</td>\n",
       "      <td>not corrupted</td>\n",
       "      <td>not corrupted</td>\n",
       "      <td>not corrupted</td>\n",
       "      <td>not corrupted</td>\n",
       "    </tr>\n",
       "    <tr>\n",
       "      <td>...</td>\n",
       "      <td>...</td>\n",
       "      <td>...</td>\n",
       "      <td>...</td>\n",
       "      <td>...</td>\n",
       "      <td>...</td>\n",
       "      <td>...</td>\n",
       "      <td>...</td>\n",
       "      <td>...</td>\n",
       "      <td>...</td>\n",
       "      <td>...</td>\n",
       "      <td>...</td>\n",
       "      <td>...</td>\n",
       "      <td>...</td>\n",
       "      <td>...</td>\n",
       "      <td>...</td>\n",
       "      <td>...</td>\n",
       "      <td>...</td>\n",
       "      <td>...</td>\n",
       "      <td>...</td>\n",
       "      <td>...</td>\n",
       "      <td>...</td>\n",
       "    </tr>\n",
       "    <tr>\n",
       "      <td>9995</td>\n",
       "      <td>not corrupted</td>\n",
       "      <td>not corrupted</td>\n",
       "      <td>not corrupted</td>\n",
       "      <td>not corrupted</td>\n",
       "      <td>not corrupted</td>\n",
       "      <td>not corrupted</td>\n",
       "      <td>not corrupted</td>\n",
       "      <td>not corrupted</td>\n",
       "      <td>not corrupted</td>\n",
       "      <td>not corrupted</td>\n",
       "      <td>...</td>\n",
       "      <td>not corrupted</td>\n",
       "      <td>not corrupted</td>\n",
       "      <td>not corrupted</td>\n",
       "      <td>not corrupted</td>\n",
       "      <td>not corrupted</td>\n",
       "      <td>not corrupted</td>\n",
       "      <td>not corrupted</td>\n",
       "      <td>not corrupted</td>\n",
       "      <td>not corrupted</td>\n",
       "      <td>not corrupted</td>\n",
       "    </tr>\n",
       "    <tr>\n",
       "      <td>9996</td>\n",
       "      <td>not corrupted</td>\n",
       "      <td>not corrupted</td>\n",
       "      <td>not corrupted</td>\n",
       "      <td>not corrupted</td>\n",
       "      <td>not corrupted</td>\n",
       "      <td>not corrupted</td>\n",
       "      <td>not corrupted</td>\n",
       "      <td>not corrupted</td>\n",
       "      <td>not corrupted</td>\n",
       "      <td>not corrupted</td>\n",
       "      <td>...</td>\n",
       "      <td>not corrupted</td>\n",
       "      <td>not corrupted</td>\n",
       "      <td>not corrupted</td>\n",
       "      <td>not corrupted</td>\n",
       "      <td>not corrupted</td>\n",
       "      <td>not corrupted</td>\n",
       "      <td>not corrupted</td>\n",
       "      <td>not corrupted</td>\n",
       "      <td>not corrupted</td>\n",
       "      <td>not corrupted</td>\n",
       "    </tr>\n",
       "    <tr>\n",
       "      <td>9997</td>\n",
       "      <td>not corrupted</td>\n",
       "      <td>not corrupted</td>\n",
       "      <td>not corrupted</td>\n",
       "      <td>not corrupted</td>\n",
       "      <td>not corrupted</td>\n",
       "      <td>not corrupted</td>\n",
       "      <td>not corrupted</td>\n",
       "      <td>not corrupted</td>\n",
       "      <td>not corrupted</td>\n",
       "      <td>not corrupted</td>\n",
       "      <td>...</td>\n",
       "      <td>not corrupted</td>\n",
       "      <td>not corrupted</td>\n",
       "      <td>not corrupted</td>\n",
       "      <td>not corrupted</td>\n",
       "      <td>not corrupted</td>\n",
       "      <td>not corrupted</td>\n",
       "      <td>not corrupted</td>\n",
       "      <td>not corrupted</td>\n",
       "      <td>not corrupted</td>\n",
       "      <td>not corrupted</td>\n",
       "    </tr>\n",
       "    <tr>\n",
       "      <td>9998</td>\n",
       "      <td>not corrupted</td>\n",
       "      <td>not corrupted</td>\n",
       "      <td>not corrupted</td>\n",
       "      <td>not corrupted</td>\n",
       "      <td>not corrupted</td>\n",
       "      <td>not corrupted</td>\n",
       "      <td>not corrupted</td>\n",
       "      <td>not corrupted</td>\n",
       "      <td>not corrupted</td>\n",
       "      <td>not corrupted</td>\n",
       "      <td>...</td>\n",
       "      <td>not corrupted</td>\n",
       "      <td>not corrupted</td>\n",
       "      <td>not corrupted</td>\n",
       "      <td>not corrupted</td>\n",
       "      <td>not corrupted</td>\n",
       "      <td>not corrupted</td>\n",
       "      <td>not corrupted</td>\n",
       "      <td>not corrupted</td>\n",
       "      <td>not corrupted</td>\n",
       "      <td>not corrupted</td>\n",
       "    </tr>\n",
       "    <tr>\n",
       "      <td>9999</td>\n",
       "      <td>not corrupted</td>\n",
       "      <td>not corrupted</td>\n",
       "      <td>not corrupted</td>\n",
       "      <td>not corrupted</td>\n",
       "      <td>not corrupted</td>\n",
       "      <td>not corrupted</td>\n",
       "      <td>not corrupted</td>\n",
       "      <td>not corrupted</td>\n",
       "      <td>not corrupted</td>\n",
       "      <td>not corrupted</td>\n",
       "      <td>...</td>\n",
       "      <td>not corrupted</td>\n",
       "      <td>not corrupted</td>\n",
       "      <td>not corrupted</td>\n",
       "      <td>not corrupted</td>\n",
       "      <td>not corrupted</td>\n",
       "      <td>not corrupted</td>\n",
       "      <td>not corrupted</td>\n",
       "      <td>not corrupted</td>\n",
       "      <td>not corrupted</td>\n",
       "      <td>not corrupted</td>\n",
       "    </tr>\n",
       "  </tbody>\n",
       "</table>\n",
       "<p>10000 rows × 50 columns</p>\n",
       "</div>"
      ],
      "text/plain": [
       "                 0              1              2              3   \\\n",
       "0     not corrupted  not corrupted  not corrupted  not corrupted   \n",
       "1     not corrupted  not corrupted  not corrupted  not corrupted   \n",
       "2     not corrupted  not corrupted  not corrupted  not corrupted   \n",
       "3     not corrupted  not corrupted  not corrupted  not corrupted   \n",
       "4     not corrupted  not corrupted  not corrupted  not corrupted   \n",
       "...             ...            ...            ...            ...   \n",
       "9995  not corrupted  not corrupted  not corrupted  not corrupted   \n",
       "9996  not corrupted  not corrupted  not corrupted  not corrupted   \n",
       "9997  not corrupted  not corrupted  not corrupted  not corrupted   \n",
       "9998  not corrupted  not corrupted  not corrupted  not corrupted   \n",
       "9999  not corrupted  not corrupted  not corrupted  not corrupted   \n",
       "\n",
       "                 4              5              6              7   \\\n",
       "0     not corrupted  not corrupted  not corrupted  not corrupted   \n",
       "1     not corrupted  not corrupted  not corrupted  not corrupted   \n",
       "2     not corrupted  not corrupted  not corrupted  not corrupted   \n",
       "3     not corrupted  not corrupted  not corrupted  not corrupted   \n",
       "4     not corrupted  not corrupted  not corrupted  not corrupted   \n",
       "...             ...            ...            ...            ...   \n",
       "9995  not corrupted  not corrupted  not corrupted  not corrupted   \n",
       "9996  not corrupted  not corrupted  not corrupted  not corrupted   \n",
       "9997  not corrupted  not corrupted  not corrupted  not corrupted   \n",
       "9998  not corrupted  not corrupted  not corrupted  not corrupted   \n",
       "9999  not corrupted  not corrupted  not corrupted  not corrupted   \n",
       "\n",
       "                 8              9   ...             40             41  \\\n",
       "0     not corrupted  not corrupted  ...  not corrupted  not corrupted   \n",
       "1     not corrupted  not corrupted  ...  not corrupted  not corrupted   \n",
       "2     not corrupted  not corrupted  ...  not corrupted  not corrupted   \n",
       "3     not corrupted  not corrupted  ...  not corrupted  not corrupted   \n",
       "4     not corrupted  not corrupted  ...  not corrupted  not corrupted   \n",
       "...             ...            ...  ...            ...            ...   \n",
       "9995  not corrupted  not corrupted  ...  not corrupted  not corrupted   \n",
       "9996  not corrupted  not corrupted  ...  not corrupted  not corrupted   \n",
       "9997  not corrupted  not corrupted  ...  not corrupted  not corrupted   \n",
       "9998  not corrupted  not corrupted  ...  not corrupted  not corrupted   \n",
       "9999  not corrupted  not corrupted  ...  not corrupted  not corrupted   \n",
       "\n",
       "                 42             43             44             45  \\\n",
       "0     not corrupted  not corrupted  not corrupted  not corrupted   \n",
       "1     not corrupted  not corrupted  not corrupted  not corrupted   \n",
       "2     not corrupted  not corrupted  not corrupted  not corrupted   \n",
       "3     not corrupted  not corrupted  not corrupted  not corrupted   \n",
       "4     not corrupted  not corrupted  not corrupted  not corrupted   \n",
       "...             ...            ...            ...            ...   \n",
       "9995  not corrupted  not corrupted  not corrupted  not corrupted   \n",
       "9996  not corrupted  not corrupted  not corrupted  not corrupted   \n",
       "9997  not corrupted  not corrupted  not corrupted  not corrupted   \n",
       "9998  not corrupted  not corrupted  not corrupted  not corrupted   \n",
       "9999  not corrupted  not corrupted  not corrupted  not corrupted   \n",
       "\n",
       "                 46             47             48             49  \n",
       "0     not corrupted  not corrupted  not corrupted  not corrupted  \n",
       "1     not corrupted  not corrupted  not corrupted  not corrupted  \n",
       "2     not corrupted  not corrupted  not corrupted  not corrupted  \n",
       "3     not corrupted  not corrupted  not corrupted  not corrupted  \n",
       "4     not corrupted  not corrupted  not corrupted  not corrupted  \n",
       "...             ...            ...            ...            ...  \n",
       "9995  not corrupted  not corrupted  not corrupted  not corrupted  \n",
       "9996  not corrupted  not corrupted  not corrupted  not corrupted  \n",
       "9997  not corrupted  not corrupted  not corrupted  not corrupted  \n",
       "9998  not corrupted  not corrupted  not corrupted  not corrupted  \n",
       "9999  not corrupted  not corrupted  not corrupted  not corrupted  \n",
       "\n",
       "[10000 rows x 50 columns]"
      ]
     },
     "execution_count": 65,
     "metadata": {},
     "output_type": "execute_result"
    }
   ],
   "source": [
    "installdf = pd.DataFrame(install)\n",
    "installdf"
   ]
  },
  {
   "cell_type": "markdown",
   "metadata": {},
   "source": [
    "- Step 3: Write a function that tells if all trials were not corrupted, then apply to dataframe."
   ]
  },
  {
   "cell_type": "code",
   "execution_count": 66,
   "metadata": {},
   "outputs": [],
   "source": [
    "def no_intallation_issues(one_row: pd.Series) -> bool:\n",
    "    return (one_row == 'not corrupted').all()"
   ]
  },
  {
   "cell_type": "code",
   "execution_count": 67,
   "metadata": {},
   "outputs": [
    {
     "data": {
      "text/plain": [
       "0        True\n",
       "1        True\n",
       "2        True\n",
       "3        True\n",
       "4        True\n",
       "        ...  \n",
       "9995     True\n",
       "9996     True\n",
       "9997     True\n",
       "9998    False\n",
       "9999     True\n",
       "Length: 10000, dtype: bool"
      ]
     },
     "execution_count": 67,
     "metadata": {},
     "output_type": "execute_result"
    }
   ],
   "source": [
    "installdf.apply(no_intallation_issues, axis = 1)"
   ]
  },
  {
   "cell_type": "markdown",
   "metadata": {},
   "source": [
    "- Step 4: To answer the question \"What are the odds?\" use .mean()"
   ]
  },
  {
   "cell_type": "code",
   "execution_count": 70,
   "metadata": {},
   "outputs": [],
   "source": [
    "odds_of_successful_installation_for_50_students = installdf.apply(no_intallation_issues, axis = 1).mean()"
   ]
  },
  {
   "cell_type": "code",
   "execution_count": 71,
   "metadata": {},
   "outputs": [
    {
     "data": {
      "text/plain": [
       "0.8167"
      ]
     },
     "execution_count": 71,
     "metadata": {},
     "output_type": "execute_result"
    }
   ],
   "source": [
    "odds_of_successful_installation_for_50_students"
   ]
  },
  {
   "cell_type": "markdown",
   "metadata": {},
   "source": [
    "### for 100 students?"
   ]
  },
  {
   "cell_type": "code",
   "execution_count": 73,
   "metadata": {},
   "outputs": [
    {
     "data": {
      "text/plain": [
       "array([['not corrupted', 'not corrupted', 'not corrupted', ...,\n",
       "        'not corrupted', 'not corrupted', 'not corrupted'],\n",
       "       ['not corrupted', 'not corrupted', 'not corrupted', ...,\n",
       "        'not corrupted', 'not corrupted', 'not corrupted'],\n",
       "       ['not corrupted', 'not corrupted', 'not corrupted', ...,\n",
       "        'not corrupted', 'not corrupted', 'not corrupted'],\n",
       "       ...,\n",
       "       ['not corrupted', 'not corrupted', 'not corrupted', ...,\n",
       "        'not corrupted', 'not corrupted', 'not corrupted'],\n",
       "       ['not corrupted', 'not corrupted', 'not corrupted', ...,\n",
       "        'not corrupted', 'not corrupted', 'not corrupted'],\n",
       "       ['not corrupted', 'not corrupted', 'not corrupted', ...,\n",
       "        'not corrupted', 'not corrupted', 'not corrupted']], dtype='<U13')"
      ]
     },
     "execution_count": 73,
     "metadata": {},
     "output_type": "execute_result"
    }
   ],
   "source": [
    "install1 = np.random.choice(['corrupted','not corrupted'], size = (10_000 , 100), p=[.004, .996])\n",
    "install1"
   ]
  },
  {
   "cell_type": "code",
   "execution_count": 74,
   "metadata": {},
   "outputs": [
    {
     "data": {
      "text/html": [
       "<div>\n",
       "<style scoped>\n",
       "    .dataframe tbody tr th:only-of-type {\n",
       "        vertical-align: middle;\n",
       "    }\n",
       "\n",
       "    .dataframe tbody tr th {\n",
       "        vertical-align: top;\n",
       "    }\n",
       "\n",
       "    .dataframe thead th {\n",
       "        text-align: right;\n",
       "    }\n",
       "</style>\n",
       "<table border=\"1\" class=\"dataframe\">\n",
       "  <thead>\n",
       "    <tr style=\"text-align: right;\">\n",
       "      <th></th>\n",
       "      <th>0</th>\n",
       "      <th>1</th>\n",
       "      <th>2</th>\n",
       "      <th>3</th>\n",
       "      <th>4</th>\n",
       "      <th>5</th>\n",
       "      <th>6</th>\n",
       "      <th>7</th>\n",
       "      <th>8</th>\n",
       "      <th>9</th>\n",
       "      <th>...</th>\n",
       "      <th>40</th>\n",
       "      <th>41</th>\n",
       "      <th>42</th>\n",
       "      <th>43</th>\n",
       "      <th>44</th>\n",
       "      <th>45</th>\n",
       "      <th>46</th>\n",
       "      <th>47</th>\n",
       "      <th>48</th>\n",
       "      <th>49</th>\n",
       "    </tr>\n",
       "  </thead>\n",
       "  <tbody>\n",
       "    <tr>\n",
       "      <td>0</td>\n",
       "      <td>not corrupted</td>\n",
       "      <td>not corrupted</td>\n",
       "      <td>not corrupted</td>\n",
       "      <td>not corrupted</td>\n",
       "      <td>not corrupted</td>\n",
       "      <td>not corrupted</td>\n",
       "      <td>not corrupted</td>\n",
       "      <td>not corrupted</td>\n",
       "      <td>not corrupted</td>\n",
       "      <td>not corrupted</td>\n",
       "      <td>...</td>\n",
       "      <td>not corrupted</td>\n",
       "      <td>not corrupted</td>\n",
       "      <td>not corrupted</td>\n",
       "      <td>not corrupted</td>\n",
       "      <td>not corrupted</td>\n",
       "      <td>not corrupted</td>\n",
       "      <td>not corrupted</td>\n",
       "      <td>not corrupted</td>\n",
       "      <td>not corrupted</td>\n",
       "      <td>not corrupted</td>\n",
       "    </tr>\n",
       "    <tr>\n",
       "      <td>1</td>\n",
       "      <td>not corrupted</td>\n",
       "      <td>not corrupted</td>\n",
       "      <td>not corrupted</td>\n",
       "      <td>not corrupted</td>\n",
       "      <td>not corrupted</td>\n",
       "      <td>not corrupted</td>\n",
       "      <td>not corrupted</td>\n",
       "      <td>not corrupted</td>\n",
       "      <td>not corrupted</td>\n",
       "      <td>not corrupted</td>\n",
       "      <td>...</td>\n",
       "      <td>not corrupted</td>\n",
       "      <td>not corrupted</td>\n",
       "      <td>not corrupted</td>\n",
       "      <td>not corrupted</td>\n",
       "      <td>not corrupted</td>\n",
       "      <td>not corrupted</td>\n",
       "      <td>not corrupted</td>\n",
       "      <td>not corrupted</td>\n",
       "      <td>not corrupted</td>\n",
       "      <td>not corrupted</td>\n",
       "    </tr>\n",
       "    <tr>\n",
       "      <td>2</td>\n",
       "      <td>not corrupted</td>\n",
       "      <td>not corrupted</td>\n",
       "      <td>not corrupted</td>\n",
       "      <td>not corrupted</td>\n",
       "      <td>not corrupted</td>\n",
       "      <td>not corrupted</td>\n",
       "      <td>not corrupted</td>\n",
       "      <td>not corrupted</td>\n",
       "      <td>not corrupted</td>\n",
       "      <td>not corrupted</td>\n",
       "      <td>...</td>\n",
       "      <td>not corrupted</td>\n",
       "      <td>not corrupted</td>\n",
       "      <td>not corrupted</td>\n",
       "      <td>not corrupted</td>\n",
       "      <td>not corrupted</td>\n",
       "      <td>not corrupted</td>\n",
       "      <td>not corrupted</td>\n",
       "      <td>not corrupted</td>\n",
       "      <td>not corrupted</td>\n",
       "      <td>not corrupted</td>\n",
       "    </tr>\n",
       "    <tr>\n",
       "      <td>3</td>\n",
       "      <td>not corrupted</td>\n",
       "      <td>not corrupted</td>\n",
       "      <td>not corrupted</td>\n",
       "      <td>not corrupted</td>\n",
       "      <td>not corrupted</td>\n",
       "      <td>not corrupted</td>\n",
       "      <td>not corrupted</td>\n",
       "      <td>not corrupted</td>\n",
       "      <td>not corrupted</td>\n",
       "      <td>not corrupted</td>\n",
       "      <td>...</td>\n",
       "      <td>not corrupted</td>\n",
       "      <td>not corrupted</td>\n",
       "      <td>not corrupted</td>\n",
       "      <td>not corrupted</td>\n",
       "      <td>not corrupted</td>\n",
       "      <td>not corrupted</td>\n",
       "      <td>not corrupted</td>\n",
       "      <td>not corrupted</td>\n",
       "      <td>not corrupted</td>\n",
       "      <td>not corrupted</td>\n",
       "    </tr>\n",
       "    <tr>\n",
       "      <td>4</td>\n",
       "      <td>not corrupted</td>\n",
       "      <td>not corrupted</td>\n",
       "      <td>not corrupted</td>\n",
       "      <td>not corrupted</td>\n",
       "      <td>not corrupted</td>\n",
       "      <td>not corrupted</td>\n",
       "      <td>not corrupted</td>\n",
       "      <td>not corrupted</td>\n",
       "      <td>not corrupted</td>\n",
       "      <td>not corrupted</td>\n",
       "      <td>...</td>\n",
       "      <td>not corrupted</td>\n",
       "      <td>not corrupted</td>\n",
       "      <td>not corrupted</td>\n",
       "      <td>not corrupted</td>\n",
       "      <td>not corrupted</td>\n",
       "      <td>not corrupted</td>\n",
       "      <td>not corrupted</td>\n",
       "      <td>not corrupted</td>\n",
       "      <td>not corrupted</td>\n",
       "      <td>not corrupted</td>\n",
       "    </tr>\n",
       "    <tr>\n",
       "      <td>...</td>\n",
       "      <td>...</td>\n",
       "      <td>...</td>\n",
       "      <td>...</td>\n",
       "      <td>...</td>\n",
       "      <td>...</td>\n",
       "      <td>...</td>\n",
       "      <td>...</td>\n",
       "      <td>...</td>\n",
       "      <td>...</td>\n",
       "      <td>...</td>\n",
       "      <td>...</td>\n",
       "      <td>...</td>\n",
       "      <td>...</td>\n",
       "      <td>...</td>\n",
       "      <td>...</td>\n",
       "      <td>...</td>\n",
       "      <td>...</td>\n",
       "      <td>...</td>\n",
       "      <td>...</td>\n",
       "      <td>...</td>\n",
       "      <td>...</td>\n",
       "    </tr>\n",
       "    <tr>\n",
       "      <td>9995</td>\n",
       "      <td>not corrupted</td>\n",
       "      <td>not corrupted</td>\n",
       "      <td>not corrupted</td>\n",
       "      <td>not corrupted</td>\n",
       "      <td>not corrupted</td>\n",
       "      <td>not corrupted</td>\n",
       "      <td>not corrupted</td>\n",
       "      <td>not corrupted</td>\n",
       "      <td>not corrupted</td>\n",
       "      <td>not corrupted</td>\n",
       "      <td>...</td>\n",
       "      <td>not corrupted</td>\n",
       "      <td>not corrupted</td>\n",
       "      <td>not corrupted</td>\n",
       "      <td>not corrupted</td>\n",
       "      <td>not corrupted</td>\n",
       "      <td>not corrupted</td>\n",
       "      <td>not corrupted</td>\n",
       "      <td>not corrupted</td>\n",
       "      <td>not corrupted</td>\n",
       "      <td>not corrupted</td>\n",
       "    </tr>\n",
       "    <tr>\n",
       "      <td>9996</td>\n",
       "      <td>not corrupted</td>\n",
       "      <td>not corrupted</td>\n",
       "      <td>not corrupted</td>\n",
       "      <td>not corrupted</td>\n",
       "      <td>not corrupted</td>\n",
       "      <td>not corrupted</td>\n",
       "      <td>not corrupted</td>\n",
       "      <td>not corrupted</td>\n",
       "      <td>not corrupted</td>\n",
       "      <td>not corrupted</td>\n",
       "      <td>...</td>\n",
       "      <td>not corrupted</td>\n",
       "      <td>not corrupted</td>\n",
       "      <td>not corrupted</td>\n",
       "      <td>not corrupted</td>\n",
       "      <td>not corrupted</td>\n",
       "      <td>not corrupted</td>\n",
       "      <td>not corrupted</td>\n",
       "      <td>not corrupted</td>\n",
       "      <td>not corrupted</td>\n",
       "      <td>not corrupted</td>\n",
       "    </tr>\n",
       "    <tr>\n",
       "      <td>9997</td>\n",
       "      <td>not corrupted</td>\n",
       "      <td>not corrupted</td>\n",
       "      <td>not corrupted</td>\n",
       "      <td>not corrupted</td>\n",
       "      <td>not corrupted</td>\n",
       "      <td>not corrupted</td>\n",
       "      <td>not corrupted</td>\n",
       "      <td>not corrupted</td>\n",
       "      <td>not corrupted</td>\n",
       "      <td>not corrupted</td>\n",
       "      <td>...</td>\n",
       "      <td>not corrupted</td>\n",
       "      <td>not corrupted</td>\n",
       "      <td>not corrupted</td>\n",
       "      <td>not corrupted</td>\n",
       "      <td>not corrupted</td>\n",
       "      <td>not corrupted</td>\n",
       "      <td>not corrupted</td>\n",
       "      <td>not corrupted</td>\n",
       "      <td>not corrupted</td>\n",
       "      <td>not corrupted</td>\n",
       "    </tr>\n",
       "    <tr>\n",
       "      <td>9998</td>\n",
       "      <td>not corrupted</td>\n",
       "      <td>not corrupted</td>\n",
       "      <td>not corrupted</td>\n",
       "      <td>not corrupted</td>\n",
       "      <td>not corrupted</td>\n",
       "      <td>not corrupted</td>\n",
       "      <td>not corrupted</td>\n",
       "      <td>not corrupted</td>\n",
       "      <td>not corrupted</td>\n",
       "      <td>not corrupted</td>\n",
       "      <td>...</td>\n",
       "      <td>not corrupted</td>\n",
       "      <td>not corrupted</td>\n",
       "      <td>not corrupted</td>\n",
       "      <td>not corrupted</td>\n",
       "      <td>not corrupted</td>\n",
       "      <td>not corrupted</td>\n",
       "      <td>not corrupted</td>\n",
       "      <td>not corrupted</td>\n",
       "      <td>not corrupted</td>\n",
       "      <td>not corrupted</td>\n",
       "    </tr>\n",
       "    <tr>\n",
       "      <td>9999</td>\n",
       "      <td>not corrupted</td>\n",
       "      <td>not corrupted</td>\n",
       "      <td>not corrupted</td>\n",
       "      <td>not corrupted</td>\n",
       "      <td>not corrupted</td>\n",
       "      <td>not corrupted</td>\n",
       "      <td>not corrupted</td>\n",
       "      <td>not corrupted</td>\n",
       "      <td>not corrupted</td>\n",
       "      <td>not corrupted</td>\n",
       "      <td>...</td>\n",
       "      <td>not corrupted</td>\n",
       "      <td>not corrupted</td>\n",
       "      <td>not corrupted</td>\n",
       "      <td>not corrupted</td>\n",
       "      <td>not corrupted</td>\n",
       "      <td>not corrupted</td>\n",
       "      <td>not corrupted</td>\n",
       "      <td>not corrupted</td>\n",
       "      <td>not corrupted</td>\n",
       "      <td>not corrupted</td>\n",
       "    </tr>\n",
       "  </tbody>\n",
       "</table>\n",
       "<p>10000 rows × 50 columns</p>\n",
       "</div>"
      ],
      "text/plain": [
       "                 0              1              2              3   \\\n",
       "0     not corrupted  not corrupted  not corrupted  not corrupted   \n",
       "1     not corrupted  not corrupted  not corrupted  not corrupted   \n",
       "2     not corrupted  not corrupted  not corrupted  not corrupted   \n",
       "3     not corrupted  not corrupted  not corrupted  not corrupted   \n",
       "4     not corrupted  not corrupted  not corrupted  not corrupted   \n",
       "...             ...            ...            ...            ...   \n",
       "9995  not corrupted  not corrupted  not corrupted  not corrupted   \n",
       "9996  not corrupted  not corrupted  not corrupted  not corrupted   \n",
       "9997  not corrupted  not corrupted  not corrupted  not corrupted   \n",
       "9998  not corrupted  not corrupted  not corrupted  not corrupted   \n",
       "9999  not corrupted  not corrupted  not corrupted  not corrupted   \n",
       "\n",
       "                 4              5              6              7   \\\n",
       "0     not corrupted  not corrupted  not corrupted  not corrupted   \n",
       "1     not corrupted  not corrupted  not corrupted  not corrupted   \n",
       "2     not corrupted  not corrupted  not corrupted  not corrupted   \n",
       "3     not corrupted  not corrupted  not corrupted  not corrupted   \n",
       "4     not corrupted  not corrupted  not corrupted  not corrupted   \n",
       "...             ...            ...            ...            ...   \n",
       "9995  not corrupted  not corrupted  not corrupted  not corrupted   \n",
       "9996  not corrupted  not corrupted  not corrupted  not corrupted   \n",
       "9997  not corrupted  not corrupted  not corrupted  not corrupted   \n",
       "9998  not corrupted  not corrupted  not corrupted  not corrupted   \n",
       "9999  not corrupted  not corrupted  not corrupted  not corrupted   \n",
       "\n",
       "                 8              9   ...             40             41  \\\n",
       "0     not corrupted  not corrupted  ...  not corrupted  not corrupted   \n",
       "1     not corrupted  not corrupted  ...  not corrupted  not corrupted   \n",
       "2     not corrupted  not corrupted  ...  not corrupted  not corrupted   \n",
       "3     not corrupted  not corrupted  ...  not corrupted  not corrupted   \n",
       "4     not corrupted  not corrupted  ...  not corrupted  not corrupted   \n",
       "...             ...            ...  ...            ...            ...   \n",
       "9995  not corrupted  not corrupted  ...  not corrupted  not corrupted   \n",
       "9996  not corrupted  not corrupted  ...  not corrupted  not corrupted   \n",
       "9997  not corrupted  not corrupted  ...  not corrupted  not corrupted   \n",
       "9998  not corrupted  not corrupted  ...  not corrupted  not corrupted   \n",
       "9999  not corrupted  not corrupted  ...  not corrupted  not corrupted   \n",
       "\n",
       "                 42             43             44             45  \\\n",
       "0     not corrupted  not corrupted  not corrupted  not corrupted   \n",
       "1     not corrupted  not corrupted  not corrupted  not corrupted   \n",
       "2     not corrupted  not corrupted  not corrupted  not corrupted   \n",
       "3     not corrupted  not corrupted  not corrupted  not corrupted   \n",
       "4     not corrupted  not corrupted  not corrupted  not corrupted   \n",
       "...             ...            ...            ...            ...   \n",
       "9995  not corrupted  not corrupted  not corrupted  not corrupted   \n",
       "9996  not corrupted  not corrupted  not corrupted  not corrupted   \n",
       "9997  not corrupted  not corrupted  not corrupted  not corrupted   \n",
       "9998  not corrupted  not corrupted  not corrupted  not corrupted   \n",
       "9999  not corrupted  not corrupted  not corrupted  not corrupted   \n",
       "\n",
       "                 46             47             48             49  \n",
       "0     not corrupted  not corrupted  not corrupted  not corrupted  \n",
       "1     not corrupted  not corrupted  not corrupted  not corrupted  \n",
       "2     not corrupted  not corrupted  not corrupted  not corrupted  \n",
       "3     not corrupted  not corrupted  not corrupted  not corrupted  \n",
       "4     not corrupted  not corrupted  not corrupted  not corrupted  \n",
       "...             ...            ...            ...            ...  \n",
       "9995  not corrupted  not corrupted  not corrupted  not corrupted  \n",
       "9996  not corrupted  not corrupted  not corrupted  not corrupted  \n",
       "9997  not corrupted  not corrupted  not corrupted  not corrupted  \n",
       "9998  not corrupted  not corrupted  not corrupted  not corrupted  \n",
       "9999  not corrupted  not corrupted  not corrupted  not corrupted  \n",
       "\n",
       "[10000 rows x 50 columns]"
      ]
     },
     "execution_count": 74,
     "metadata": {},
     "output_type": "execute_result"
    }
   ],
   "source": [
    "install1df = pd.DataFrame(install)\n",
    "install1df"
   ]
  },
  {
   "cell_type": "code",
   "execution_count": 75,
   "metadata": {},
   "outputs": [],
   "source": [
    "odds_of_successful_installation_for_100_students = install1df.apply(no_intallation_issues, axis = 1).mean()"
   ]
  },
  {
   "cell_type": "code",
   "execution_count": 76,
   "metadata": {},
   "outputs": [
    {
     "data": {
      "text/plain": [
       "0.8167"
      ]
     },
     "execution_count": 76,
     "metadata": {},
     "output_type": "execute_result"
    }
   ],
   "source": [
    "odds_of_successful_installation_for_100_students "
   ]
  },
  {
   "cell_type": "code",
   "execution_count": null,
   "metadata": {},
   "outputs": [],
   "source": []
  }
 ],
 "metadata": {
  "kernelspec": {
   "display_name": "Python 3",
   "language": "python",
   "name": "python3"
  },
  "language_info": {
   "codemirror_mode": {
    "name": "ipython",
    "version": 3
   },
   "file_extension": ".py",
   "mimetype": "text/x-python",
   "name": "python",
   "nbconvert_exporter": "python",
   "pygments_lexer": "ipython3",
   "version": "3.7.4"
  }
 },
 "nbformat": 4,
 "nbformat_minor": 2
}
